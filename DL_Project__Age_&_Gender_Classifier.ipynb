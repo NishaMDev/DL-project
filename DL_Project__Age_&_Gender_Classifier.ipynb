{
 "cells": [
  {
   "cell_type": "markdown",
   "metadata": {
    "id": "IH-jxeUtAQx-"
   },
   "source": [
    "# Age & Gender Classifier using Deep CNNs  - \n",
    "\n",
    "**Dataset : UTKFace**\n",
    "\n",
    "UTKFace dataset is a large-scale face dataset with long age span (range from 0 to 116 years old). The dataset consists of over 20,000 face images with annotations of age, gender, and ethnicity. The images cover large variation in pose, facial expression, illumination, occlusion, resolution, etc.\n",
    "\n",
    "In this notebook, I have used the `aligned and cropped` faces available to train my models. Needless to say, any face input for testing must be cropped and aligned vertically to large extent"
   ]
  },
  {
   "cell_type": "code",
   "execution_count": 3,
   "metadata": {},
   "outputs": [
    {
     "name": "stdout",
     "output_type": "stream",
     "text": [
      "# Build an image that can do training and inference in SageMaker\r\n",
      "# This is a Python 3 image that uses the nginx, gunicorn, flask stack\r\n",
      "# for serving inferences in a stable way.\r\n",
      "\r\n",
      "FROM ubuntu:18.04\r\n",
      "\r\n",
      "MAINTAINER Amazon AI <sage-learner@amazon.com>\r\n",
      "\r\n",
      "\r\n",
      "RUN apt-get -y update && apt-get install -y --no-install-recommends \\\r\n",
      "         wget \\\r\n",
      "         python3-pip \\\r\n",
      "         python3-setuptools \\\r\n",
      "         nginx \\\r\n",
      "         ca-certificates \\\r\n",
      "    && rm -rf /var/lib/apt/lists/*\r\n",
      "\r\n",
      "RUN ln -s /usr/bin/python3 /usr/bin/python\r\n",
      "RUN ln -s /usr/bin/pip3 /usr/bin/pip\r\n",
      "\r\n",
      "# Here we get all python packages.\r\n",
      "# There's substantial overlap between scipy and numpy that we eliminate by\r\n",
      "# linking them together. Likewise, pip leaves the install caches populated which uses\r\n",
      "# a significant amount of space. These optimizations save a fair amount of space in the\r\n",
      "# image, which reduces start up time.\r\n",
      "RUN pip --no-cache-dir install numpy==1.16.2 scipy==1.2.1 scikit-learn==0.20.2 pandas flask gunicorn\r\n",
      "\r\n",
      "# Set some environment variables. PYTHONUNBUFFERED keeps Python from buffering our standard\r\n",
      "# output stream, which means that logs can be delivered to the user quickly. PYTHONDONTWRITEBYTECODE\r\n",
      "# keeps Python from writing the .pyc files which are unnecessary in this case. We also update\r\n",
      "# PATH so that the train and serve programs are found when the container is invoked.\r\n",
      "\r\n",
      "ENV PYTHONUNBUFFERED=TRUE\r\n",
      "ENV PYTHONDONTWRITEBYTECODE=TRUE\r\n",
      "ENV PATH=\"/opt/program:${PATH}\"\r\n",
      "\r\n",
      "# Set up the program in the image\r\n",
      "COPY decision_trees /opt/program\r\n",
      "WORKDIR /opt/program\r\n",
      "\r\n"
     ]
    }
   ],
   "source": [
    "!cat container/Dockerfile"
   ]
  },
  {
   "cell_type": "code",
   "execution_count": 1,
   "metadata": {},
   "outputs": [
    {
     "name": "stdout",
     "output_type": "stream",
     "text": [
      "Login Succeeded\n",
      "\r\n",
      "Step 1/11 : FROM ubuntu:18.04\n",
      " ---> c6ad7e71ba7d\n",
      "Step 2/11 : MAINTAINER Amazon AI <sage-learner@amazon.com>\n",
      " ---> Using cache\n",
      " ---> 2e149c8d699c\n",
      "Step 3/11 : RUN apt-get -y update && apt-get install -y --no-install-recommends          wget          python3-pip          python3-setuptools          nginx          ca-certificates     && rm -rf /var/lib/apt/lists/*\n",
      " ---> Using cache\n",
      " ---> 8daa2732408a\n",
      "Step 4/11 : RUN ln -s /usr/bin/python3 /usr/bin/python\n",
      " ---> Using cache\n",
      " ---> 0fbd642ecba8\n",
      "Step 5/11 : RUN ln -s /usr/bin/pip3 /usr/bin/pip\n",
      " ---> Using cache\n",
      " ---> 8aeccc1d4e18\n",
      "Step 6/11 : RUN pip --no-cache-dir install numpy==1.16.2 scipy==1.2.1 scikit-learn==0.20.2 pandas flask gunicorn\n",
      " ---> Using cache\n",
      " ---> 6c0e1af34c73\n",
      "Step 7/11 : ENV PYTHONUNBUFFERED=TRUE\n",
      " ---> Using cache\n",
      " ---> ea43f2c14400\n",
      "Step 8/11 : ENV PYTHONDONTWRITEBYTECODE=TRUE\n",
      " ---> Using cache\n",
      " ---> e695d45bbc30\n",
      "Step 9/11 : ENV PATH=\"/opt/program:${PATH}\"\n",
      " ---> Using cache\n",
      " ---> 204e06062138\n",
      "Step 10/11 : COPY decision_trees /opt/program\n",
      "The push refers to repository [820374384265.dkr.ecr.us-west-1.amazonaws.com/sagemaker-deep-learning]\n"
     ]
    },
    {
     "name": "stderr",
     "output_type": "stream",
     "text": [
      "chmod: cannot access ‘deep_learning/train’: No such file or directory\n",
      "chmod: cannot access ‘deep_learning/serve’: No such file or directory\n",
      "WARNING! Your password will be stored unencrypted in /home/ec2-user/.docker/config.json.\n",
      "Configure a credential helper to remove this warning. See\n",
      "https://docs.docker.com/engine/reference/commandline/login/#credentials-store\n",
      "\n",
      "COPY failed: file not found in build context or excluded by .dockerignore: stat decision_trees: file does not exist\n",
      "Error response from daemon: No such image: sagemaker-deep-learning:latest\n",
      "An image does not exist locally with the tag: 820374384265.dkr.ecr.us-west-1.amazonaws.com/sagemaker-deep-learning\n"
     ]
    },
    {
     "ename": "CalledProcessError",
     "evalue": "Command 'b'\\n# The name of our algorithm\\nalgorithm_name=sagemaker-deep-learning\\n\\ncd container\\n\\nchmod +x deep_learning/train\\nchmod +x deep_learning/serve\\n\\naccount=$(aws sts get-caller-identity --query Account --output text)\\n\\n# Get the region defined in the current configuration (default to us-west-2 if none defined)\\nregion=$(aws configure get region)\\nregion=${region:-us-west-2}\\n\\nfullname=\"${account}.dkr.ecr.${region}.amazonaws.com/${algorithm_name}:latest\"\\n\\n# If the repository doesn\\'t exist in ECR, create it.\\naws ecr describe-repositories --repository-names \"${algorithm_name}\" > /dev/null 2>&1\\n\\nif [ $? -ne 0 ]\\nthen\\n    aws ecr create-repository --repository-name \"${algorithm_name}\" > /dev/null\\nfi\\n\\n# Get the login command from ECR and execute it directly\\naws ecr get-login-password --region ${region}|docker login --username AWS --password-stdin ${fullname}\\n\\n# Build the docker image locally with the image name and then push it to ECR\\n# with the full name.\\n\\ndocker build  -t ${algorithm_name} .\\ndocker tag ${algorithm_name} ${fullname}\\n\\ndocker push ${fullname}\\n'' returned non-zero exit status 1.",
     "output_type": "error",
     "traceback": [
      "\u001b[0;31m---------------------------------------------------------------------------\u001b[0m",
      "\u001b[0;31mCalledProcessError\u001b[0m                        Traceback (most recent call last)",
      "\u001b[0;32m<ipython-input-1-535f6607a6a9>\u001b[0m in \u001b[0;36m<module>\u001b[0;34m\u001b[0m\n\u001b[0;32m----> 1\u001b[0;31m \u001b[0mget_ipython\u001b[0m\u001b[0;34m(\u001b[0m\u001b[0;34m)\u001b[0m\u001b[0;34m.\u001b[0m\u001b[0mrun_cell_magic\u001b[0m\u001b[0;34m(\u001b[0m\u001b[0;34m'sh'\u001b[0m\u001b[0;34m,\u001b[0m \u001b[0;34m''\u001b[0m\u001b[0;34m,\u001b[0m \u001b[0;34m'\\n# The name of our algorithm\\nalgorithm_name=sagemaker-deep-learning\\n\\ncd container\\n\\nchmod +x deep_learning/train\\nchmod +x deep_learning/serve\\n\\naccount=$(aws sts get-caller-identity --query Account --output text)\\n\\n# Get the region defined in the current configuration (default to us-west-2 if none defined)\\nregion=$(aws configure get region)\\nregion=${region:-us-west-2}\\n\\nfullname=\"${account}.dkr.ecr.${region}.amazonaws.com/${algorithm_name}:latest\"\\n\\n# If the repository doesn\\'t exist in ECR, create it.\\naws ecr describe-repositories --repository-names \"${algorithm_name}\" > /dev/null 2>&1\\n\\nif [ $? -ne 0 ]\\nthen\\n    aws ecr create-repository --repository-name \"${algorithm_name}\" > /dev/null\\nfi\\n\\n# Get the login command from ECR and execute it directly\\naws ecr get-login-password --region ${region}|docker login --username AWS --password-stdin ${fullname}\\n\\n# Build the docker image locally with the image name and then push it to ECR\\n# with the full name.\\n\\ndocker build  -t ${algorithm_name} .\\ndocker tag ${algorithm_name} ${fullname}\\n\\ndocker push ${fullname}\\n'\u001b[0m\u001b[0;34m)\u001b[0m\u001b[0;34m\u001b[0m\u001b[0;34m\u001b[0m\u001b[0m\n\u001b[0m",
      "\u001b[0;32m~/anaconda3/envs/python3/lib/python3.6/site-packages/IPython/core/interactiveshell.py\u001b[0m in \u001b[0;36mrun_cell_magic\u001b[0;34m(self, magic_name, line, cell)\u001b[0m\n\u001b[1;32m   2369\u001b[0m             \u001b[0;32mwith\u001b[0m \u001b[0mself\u001b[0m\u001b[0;34m.\u001b[0m\u001b[0mbuiltin_trap\u001b[0m\u001b[0;34m:\u001b[0m\u001b[0;34m\u001b[0m\u001b[0;34m\u001b[0m\u001b[0m\n\u001b[1;32m   2370\u001b[0m                 \u001b[0margs\u001b[0m \u001b[0;34m=\u001b[0m \u001b[0;34m(\u001b[0m\u001b[0mmagic_arg_s\u001b[0m\u001b[0;34m,\u001b[0m \u001b[0mcell\u001b[0m\u001b[0;34m)\u001b[0m\u001b[0;34m\u001b[0m\u001b[0;34m\u001b[0m\u001b[0m\n\u001b[0;32m-> 2371\u001b[0;31m                 \u001b[0mresult\u001b[0m \u001b[0;34m=\u001b[0m \u001b[0mfn\u001b[0m\u001b[0;34m(\u001b[0m\u001b[0;34m*\u001b[0m\u001b[0margs\u001b[0m\u001b[0;34m,\u001b[0m \u001b[0;34m**\u001b[0m\u001b[0mkwargs\u001b[0m\u001b[0;34m)\u001b[0m\u001b[0;34m\u001b[0m\u001b[0;34m\u001b[0m\u001b[0m\n\u001b[0m\u001b[1;32m   2372\u001b[0m             \u001b[0;32mreturn\u001b[0m \u001b[0mresult\u001b[0m\u001b[0;34m\u001b[0m\u001b[0;34m\u001b[0m\u001b[0m\n\u001b[1;32m   2373\u001b[0m \u001b[0;34m\u001b[0m\u001b[0m\n",
      "\u001b[0;32m~/anaconda3/envs/python3/lib/python3.6/site-packages/IPython/core/magics/script.py\u001b[0m in \u001b[0;36mnamed_script_magic\u001b[0;34m(line, cell)\u001b[0m\n\u001b[1;32m    140\u001b[0m             \u001b[0;32melse\u001b[0m\u001b[0;34m:\u001b[0m\u001b[0;34m\u001b[0m\u001b[0;34m\u001b[0m\u001b[0m\n\u001b[1;32m    141\u001b[0m                 \u001b[0mline\u001b[0m \u001b[0;34m=\u001b[0m \u001b[0mscript\u001b[0m\u001b[0;34m\u001b[0m\u001b[0;34m\u001b[0m\u001b[0m\n\u001b[0;32m--> 142\u001b[0;31m             \u001b[0;32mreturn\u001b[0m \u001b[0mself\u001b[0m\u001b[0;34m.\u001b[0m\u001b[0mshebang\u001b[0m\u001b[0;34m(\u001b[0m\u001b[0mline\u001b[0m\u001b[0;34m,\u001b[0m \u001b[0mcell\u001b[0m\u001b[0;34m)\u001b[0m\u001b[0;34m\u001b[0m\u001b[0;34m\u001b[0m\u001b[0m\n\u001b[0m\u001b[1;32m    143\u001b[0m \u001b[0;34m\u001b[0m\u001b[0m\n\u001b[1;32m    144\u001b[0m         \u001b[0;31m# write a basic docstring:\u001b[0m\u001b[0;34m\u001b[0m\u001b[0;34m\u001b[0m\u001b[0;34m\u001b[0m\u001b[0m\n",
      "\u001b[0;32m<decorator-gen-110>\u001b[0m in \u001b[0;36mshebang\u001b[0;34m(self, line, cell)\u001b[0m\n",
      "\u001b[0;32m~/anaconda3/envs/python3/lib/python3.6/site-packages/IPython/core/magic.py\u001b[0m in \u001b[0;36m<lambda>\u001b[0;34m(f, *a, **k)\u001b[0m\n\u001b[1;32m    185\u001b[0m     \u001b[0;31m# but it's overkill for just that one bit of state.\u001b[0m\u001b[0;34m\u001b[0m\u001b[0;34m\u001b[0m\u001b[0;34m\u001b[0m\u001b[0m\n\u001b[1;32m    186\u001b[0m     \u001b[0;32mdef\u001b[0m \u001b[0mmagic_deco\u001b[0m\u001b[0;34m(\u001b[0m\u001b[0marg\u001b[0m\u001b[0;34m)\u001b[0m\u001b[0;34m:\u001b[0m\u001b[0;34m\u001b[0m\u001b[0;34m\u001b[0m\u001b[0m\n\u001b[0;32m--> 187\u001b[0;31m         \u001b[0mcall\u001b[0m \u001b[0;34m=\u001b[0m \u001b[0;32mlambda\u001b[0m \u001b[0mf\u001b[0m\u001b[0;34m,\u001b[0m \u001b[0;34m*\u001b[0m\u001b[0ma\u001b[0m\u001b[0;34m,\u001b[0m \u001b[0;34m**\u001b[0m\u001b[0mk\u001b[0m\u001b[0;34m:\u001b[0m \u001b[0mf\u001b[0m\u001b[0;34m(\u001b[0m\u001b[0;34m*\u001b[0m\u001b[0ma\u001b[0m\u001b[0;34m,\u001b[0m \u001b[0;34m**\u001b[0m\u001b[0mk\u001b[0m\u001b[0;34m)\u001b[0m\u001b[0;34m\u001b[0m\u001b[0;34m\u001b[0m\u001b[0m\n\u001b[0m\u001b[1;32m    188\u001b[0m \u001b[0;34m\u001b[0m\u001b[0m\n\u001b[1;32m    189\u001b[0m         \u001b[0;32mif\u001b[0m \u001b[0mcallable\u001b[0m\u001b[0;34m(\u001b[0m\u001b[0marg\u001b[0m\u001b[0;34m)\u001b[0m\u001b[0;34m:\u001b[0m\u001b[0;34m\u001b[0m\u001b[0;34m\u001b[0m\u001b[0m\n",
      "\u001b[0;32m~/anaconda3/envs/python3/lib/python3.6/site-packages/IPython/core/magics/script.py\u001b[0m in \u001b[0;36mshebang\u001b[0;34m(self, line, cell)\u001b[0m\n\u001b[1;32m    243\u001b[0m             \u001b[0msys\u001b[0m\u001b[0;34m.\u001b[0m\u001b[0mstderr\u001b[0m\u001b[0;34m.\u001b[0m\u001b[0mflush\u001b[0m\u001b[0;34m(\u001b[0m\u001b[0;34m)\u001b[0m\u001b[0;34m\u001b[0m\u001b[0;34m\u001b[0m\u001b[0m\n\u001b[1;32m    244\u001b[0m         \u001b[0;32mif\u001b[0m \u001b[0margs\u001b[0m\u001b[0;34m.\u001b[0m\u001b[0mraise_error\u001b[0m \u001b[0;32mand\u001b[0m \u001b[0mp\u001b[0m\u001b[0;34m.\u001b[0m\u001b[0mreturncode\u001b[0m\u001b[0;34m!=\u001b[0m\u001b[0;36m0\u001b[0m\u001b[0;34m:\u001b[0m\u001b[0;34m\u001b[0m\u001b[0;34m\u001b[0m\u001b[0m\n\u001b[0;32m--> 245\u001b[0;31m             \u001b[0;32mraise\u001b[0m \u001b[0mCalledProcessError\u001b[0m\u001b[0;34m(\u001b[0m\u001b[0mp\u001b[0m\u001b[0;34m.\u001b[0m\u001b[0mreturncode\u001b[0m\u001b[0;34m,\u001b[0m \u001b[0mcell\u001b[0m\u001b[0;34m,\u001b[0m \u001b[0moutput\u001b[0m\u001b[0;34m=\u001b[0m\u001b[0mout\u001b[0m\u001b[0;34m,\u001b[0m \u001b[0mstderr\u001b[0m\u001b[0;34m=\u001b[0m\u001b[0merr\u001b[0m\u001b[0;34m)\u001b[0m\u001b[0;34m\u001b[0m\u001b[0;34m\u001b[0m\u001b[0m\n\u001b[0m\u001b[1;32m    246\u001b[0m \u001b[0;34m\u001b[0m\u001b[0m\n\u001b[1;32m    247\u001b[0m     \u001b[0;32mdef\u001b[0m \u001b[0m_run_script\u001b[0m\u001b[0;34m(\u001b[0m\u001b[0mself\u001b[0m\u001b[0;34m,\u001b[0m \u001b[0mp\u001b[0m\u001b[0;34m,\u001b[0m \u001b[0mcell\u001b[0m\u001b[0;34m,\u001b[0m \u001b[0mto_close\u001b[0m\u001b[0;34m)\u001b[0m\u001b[0;34m:\u001b[0m\u001b[0;34m\u001b[0m\u001b[0;34m\u001b[0m\u001b[0m\n",
      "\u001b[0;31mCalledProcessError\u001b[0m: Command 'b'\\n# The name of our algorithm\\nalgorithm_name=sagemaker-deep-learning\\n\\ncd container\\n\\nchmod +x deep_learning/train\\nchmod +x deep_learning/serve\\n\\naccount=$(aws sts get-caller-identity --query Account --output text)\\n\\n# Get the region defined in the current configuration (default to us-west-2 if none defined)\\nregion=$(aws configure get region)\\nregion=${region:-us-west-2}\\n\\nfullname=\"${account}.dkr.ecr.${region}.amazonaws.com/${algorithm_name}:latest\"\\n\\n# If the repository doesn\\'t exist in ECR, create it.\\naws ecr describe-repositories --repository-names \"${algorithm_name}\" > /dev/null 2>&1\\n\\nif [ $? -ne 0 ]\\nthen\\n    aws ecr create-repository --repository-name \"${algorithm_name}\" > /dev/null\\nfi\\n\\n# Get the login command from ECR and execute it directly\\naws ecr get-login-password --region ${region}|docker login --username AWS --password-stdin ${fullname}\\n\\n# Build the docker image locally with the image name and then push it to ECR\\n# with the full name.\\n\\ndocker build  -t ${algorithm_name} .\\ndocker tag ${algorithm_name} ${fullname}\\n\\ndocker push ${fullname}\\n'' returned non-zero exit status 1."
     ]
    }
   ],
   "source": [
    "%%sh\n",
    "\n",
    "# The name of our algorithm\n",
    "algorithm_name=sagemaker-deep-learning\n",
    "\n",
    "cd container\n",
    "\n",
    "chmod +x deep_learning/train\n",
    "chmod +x deep_learning/serve\n",
    "\n",
    "account=$(aws sts get-caller-identity --query Account --output text)\n",
    "\n",
    "# Get the region defined in the current configuration (default to us-west-2 if none defined)\n",
    "region=$(aws configure get region)\n",
    "region=${region:-us-west-2}\n",
    "\n",
    "fullname=\"${account}.dkr.ecr.${region}.amazonaws.com/${algorithm_name}:latest\"\n",
    "\n",
    "# If the repository doesn't exist in ECR, create it.\n",
    "aws ecr describe-repositories --repository-names \"${algorithm_name}\" > /dev/null 2>&1\n",
    "\n",
    "if [ $? -ne 0 ]\n",
    "then\n",
    "    aws ecr create-repository --repository-name \"${algorithm_name}\" > /dev/null\n",
    "fi\n",
    "\n",
    "# Get the login command from ECR and execute it directly\n",
    "aws ecr get-login-password --region ${region}|docker login --username AWS --password-stdin ${fullname}\n",
    "\n",
    "# Build the docker image locally with the image name and then push it to ECR\n",
    "# with the full name.\n",
    "\n",
    "docker build  -t ${algorithm_name} .\n",
    "docker tag ${algorithm_name} ${fullname}\n",
    "\n",
    "docker push ${fullname}"
   ]
  },
  {
   "cell_type": "code",
   "execution_count": 2,
   "metadata": {
    "id": "g8n273iCB_MG"
   },
   "outputs": [],
   "source": [
    "# Essential libraries\n",
    "import numpy as np \n",
    "import pandas as pd\n",
    "import os\n",
    "import glob\n",
    "import pandas as pd\n",
    "import matplotlib.pyplot as plt\n",
    "import seaborn as sns\n",
    "import scipy.io\n",
    "import pandas as pd\n",
    "import numpy as np\n",
    "import matplotlib.pyplot as plt\n",
    "from keras import applications,activations\n",
    "from keras.preprocessing.image import ImageDataGenerator,load_img,img_to_array\n",
    "from keras import optimizers,utils\n",
    "from keras.models import Sequential, Model \n",
    "from keras.layers import Dropout, Flatten, Dense, GlobalAveragePooling2D,BatchNormalization,ZeroPadding2D, Input\n",
    "from keras.layers import Conv2D, Activation,MaxPooling2D\n",
    "from keras import backend as k \n",
    "from keras.callbacks import ModelCheckpoint, LearningRateScheduler, TensorBoard, EarlyStopping"
   ]
  },
  {
   "cell_type": "code",
   "execution_count": 2,
   "metadata": {},
   "outputs": [],
   "source": [
    "# S3 prefix\n",
    "prefix = \"DEMO-DL\"\n",
    "\n",
    "# Define IAM role\n",
    "import boto3\n",
    "import re\n",
    "\n",
    "import os\n",
    "import numpy as np\n",
    "import pandas as pd\n",
    "from sagemaker import get_execution_role\n",
    "\n",
    "role = get_execution_role()\n"
   ]
  },
  {
   "cell_type": "code",
   "execution_count": 9,
   "metadata": {},
   "outputs": [],
   "source": [
    "import sagemaker as sage\n",
    "from time import gmtime, strftime\n",
    "\n",
    "sess = sage.Session()"
   ]
  },
  {
   "cell_type": "code",
   "execution_count": 10,
   "metadata": {},
   "outputs": [],
   "source": [
    "WORK_DIRECTORY = \"data\"\n",
    "\n",
    "data_location = sess.upload_data(WORK_DIRECTORY, key_prefix=prefix)"
   ]
  },
  {
   "cell_type": "code",
   "execution_count": 5,
   "metadata": {},
   "outputs": [
    {
     "ename": "ClientError",
     "evalue": "An error occurred (ValidationException) when calling the CreateTrainingJob operation: No S3 objects found under S3 URL \"s3://sagemaker-us-west-1-820374384265/DEMO-DL\" given in input data source. Please ensure that the bucket exists in the selected region (us-west-1), that objects exist under that S3 prefix, and that the role \"arn:aws:iam::820374384265:role/service-role/AmazonSageMakerServiceCatalogProductsUseRole\" has \"s3:ListBucket\" permissions on bucket \"sagemaker-us-west-1-820374384265\".",
     "output_type": "error",
     "traceback": [
      "\u001b[0;31m---------------------------------------------------------------------------\u001b[0m",
      "\u001b[0;31mClientError\u001b[0m                               Traceback (most recent call last)",
      "\u001b[0;32m<ipython-input-5-89888810ded2>\u001b[0m in \u001b[0;36m<module>\u001b[0;34m\u001b[0m\n\u001b[1;32m     12\u001b[0m )\n\u001b[1;32m     13\u001b[0m \u001b[0;34m\u001b[0m\u001b[0m\n\u001b[0;32m---> 14\u001b[0;31m \u001b[0mtree\u001b[0m\u001b[0;34m.\u001b[0m\u001b[0mfit\u001b[0m\u001b[0;34m(\u001b[0m\u001b[0mdata_location\u001b[0m\u001b[0;34m)\u001b[0m\u001b[0;34m\u001b[0m\u001b[0;34m\u001b[0m\u001b[0m\n\u001b[0m",
      "\u001b[0;32m~/anaconda3/envs/python3/lib/python3.6/site-packages/sagemaker/workflow/pipeline_context.py\u001b[0m in \u001b[0;36mwrapper\u001b[0;34m(*args, **kwargs)\u001b[0m\n\u001b[1;32m    172\u001b[0m             \u001b[0;32mreturn\u001b[0m \u001b[0mself_instance\u001b[0m\u001b[0;34m.\u001b[0m\u001b[0msagemaker_session\u001b[0m\u001b[0;34m.\u001b[0m\u001b[0mcontext\u001b[0m\u001b[0;34m\u001b[0m\u001b[0;34m\u001b[0m\u001b[0m\n\u001b[1;32m    173\u001b[0m \u001b[0;34m\u001b[0m\u001b[0m\n\u001b[0;32m--> 174\u001b[0;31m         \u001b[0;32mreturn\u001b[0m \u001b[0mrun_func\u001b[0m\u001b[0;34m(\u001b[0m\u001b[0;34m*\u001b[0m\u001b[0margs\u001b[0m\u001b[0;34m,\u001b[0m \u001b[0;34m**\u001b[0m\u001b[0mkwargs\u001b[0m\u001b[0;34m)\u001b[0m\u001b[0;34m\u001b[0m\u001b[0;34m\u001b[0m\u001b[0m\n\u001b[0m\u001b[1;32m    175\u001b[0m \u001b[0;34m\u001b[0m\u001b[0m\n\u001b[1;32m    176\u001b[0m     \u001b[0;32mreturn\u001b[0m \u001b[0mwrapper\u001b[0m\u001b[0;34m\u001b[0m\u001b[0;34m\u001b[0m\u001b[0m\n",
      "\u001b[0;32m~/anaconda3/envs/python3/lib/python3.6/site-packages/sagemaker/estimator.py\u001b[0m in \u001b[0;36mfit\u001b[0;34m(self, inputs, wait, logs, job_name, experiment_config)\u001b[0m\n\u001b[1;32m    956\u001b[0m         \u001b[0mself\u001b[0m\u001b[0;34m.\u001b[0m\u001b[0m_prepare_for_training\u001b[0m\u001b[0;34m(\u001b[0m\u001b[0mjob_name\u001b[0m\u001b[0;34m=\u001b[0m\u001b[0mjob_name\u001b[0m\u001b[0;34m)\u001b[0m\u001b[0;34m\u001b[0m\u001b[0;34m\u001b[0m\u001b[0m\n\u001b[1;32m    957\u001b[0m \u001b[0;34m\u001b[0m\u001b[0m\n\u001b[0;32m--> 958\u001b[0;31m         \u001b[0mself\u001b[0m\u001b[0;34m.\u001b[0m\u001b[0mlatest_training_job\u001b[0m \u001b[0;34m=\u001b[0m \u001b[0m_TrainingJob\u001b[0m\u001b[0;34m.\u001b[0m\u001b[0mstart_new\u001b[0m\u001b[0;34m(\u001b[0m\u001b[0mself\u001b[0m\u001b[0;34m,\u001b[0m \u001b[0minputs\u001b[0m\u001b[0;34m,\u001b[0m \u001b[0mexperiment_config\u001b[0m\u001b[0;34m)\u001b[0m\u001b[0;34m\u001b[0m\u001b[0;34m\u001b[0m\u001b[0m\n\u001b[0m\u001b[1;32m    959\u001b[0m         \u001b[0mself\u001b[0m\u001b[0;34m.\u001b[0m\u001b[0mjobs\u001b[0m\u001b[0;34m.\u001b[0m\u001b[0mappend\u001b[0m\u001b[0;34m(\u001b[0m\u001b[0mself\u001b[0m\u001b[0;34m.\u001b[0m\u001b[0mlatest_training_job\u001b[0m\u001b[0;34m)\u001b[0m\u001b[0;34m\u001b[0m\u001b[0;34m\u001b[0m\u001b[0m\n\u001b[1;32m    960\u001b[0m         \u001b[0;32mif\u001b[0m \u001b[0mwait\u001b[0m\u001b[0;34m:\u001b[0m\u001b[0;34m\u001b[0m\u001b[0;34m\u001b[0m\u001b[0m\n",
      "\u001b[0;32m~/anaconda3/envs/python3/lib/python3.6/site-packages/sagemaker/estimator.py\u001b[0m in \u001b[0;36mstart_new\u001b[0;34m(cls, estimator, inputs, experiment_config)\u001b[0m\n\u001b[1;32m   1777\u001b[0m         \u001b[0mtrain_args\u001b[0m \u001b[0;34m=\u001b[0m \u001b[0mcls\u001b[0m\u001b[0;34m.\u001b[0m\u001b[0m_get_train_args\u001b[0m\u001b[0;34m(\u001b[0m\u001b[0mestimator\u001b[0m\u001b[0;34m,\u001b[0m \u001b[0minputs\u001b[0m\u001b[0;34m,\u001b[0m \u001b[0mexperiment_config\u001b[0m\u001b[0;34m)\u001b[0m\u001b[0;34m\u001b[0m\u001b[0;34m\u001b[0m\u001b[0m\n\u001b[1;32m   1778\u001b[0m \u001b[0;34m\u001b[0m\u001b[0m\n\u001b[0;32m-> 1779\u001b[0;31m         \u001b[0mestimator\u001b[0m\u001b[0;34m.\u001b[0m\u001b[0msagemaker_session\u001b[0m\u001b[0;34m.\u001b[0m\u001b[0mtrain\u001b[0m\u001b[0;34m(\u001b[0m\u001b[0;34m**\u001b[0m\u001b[0mtrain_args\u001b[0m\u001b[0;34m)\u001b[0m\u001b[0;34m\u001b[0m\u001b[0;34m\u001b[0m\u001b[0m\n\u001b[0m\u001b[1;32m   1780\u001b[0m \u001b[0;34m\u001b[0m\u001b[0m\n\u001b[1;32m   1781\u001b[0m         \u001b[0;32mreturn\u001b[0m \u001b[0mcls\u001b[0m\u001b[0;34m(\u001b[0m\u001b[0mestimator\u001b[0m\u001b[0;34m.\u001b[0m\u001b[0msagemaker_session\u001b[0m\u001b[0;34m,\u001b[0m \u001b[0mestimator\u001b[0m\u001b[0;34m.\u001b[0m\u001b[0m_current_job_name\u001b[0m\u001b[0;34m)\u001b[0m\u001b[0;34m\u001b[0m\u001b[0;34m\u001b[0m\u001b[0m\n",
      "\u001b[0;32m~/anaconda3/envs/python3/lib/python3.6/site-packages/sagemaker/session.py\u001b[0m in \u001b[0;36mtrain\u001b[0;34m(self, input_mode, input_config, role, job_name, output_config, resource_config, vpc_config, hyperparameters, stop_condition, tags, metric_definitions, enable_network_isolation, image_uri, algorithm_arn, encrypt_inter_container_traffic, use_spot_instances, checkpoint_s3_uri, checkpoint_local_path, experiment_config, debugger_rule_configs, debugger_hook_config, tensorboard_output_config, enable_sagemaker_metrics, profiler_rule_configs, profiler_config, environment, retry_strategy)\u001b[0m\n\u001b[1;32m    592\u001b[0m             \u001b[0mself\u001b[0m\u001b[0;34m.\u001b[0m\u001b[0msagemaker_client\u001b[0m\u001b[0;34m.\u001b[0m\u001b[0mcreate_training_job\u001b[0m\u001b[0;34m(\u001b[0m\u001b[0;34m**\u001b[0m\u001b[0mrequest\u001b[0m\u001b[0;34m)\u001b[0m\u001b[0;34m\u001b[0m\u001b[0;34m\u001b[0m\u001b[0m\n\u001b[1;32m    593\u001b[0m \u001b[0;34m\u001b[0m\u001b[0m\n\u001b[0;32m--> 594\u001b[0;31m         \u001b[0mself\u001b[0m\u001b[0;34m.\u001b[0m\u001b[0m_intercept_create_request\u001b[0m\u001b[0;34m(\u001b[0m\u001b[0mtrain_request\u001b[0m\u001b[0;34m,\u001b[0m \u001b[0msubmit\u001b[0m\u001b[0;34m)\u001b[0m\u001b[0;34m\u001b[0m\u001b[0;34m\u001b[0m\u001b[0m\n\u001b[0m\u001b[1;32m    595\u001b[0m \u001b[0;34m\u001b[0m\u001b[0m\n\u001b[1;32m    596\u001b[0m     def _get_train_request(  # noqa: C901\n",
      "\u001b[0;32m~/anaconda3/envs/python3/lib/python3.6/site-packages/sagemaker/session.py\u001b[0m in \u001b[0;36m_intercept_create_request\u001b[0;34m(self, request, create, func_name)\u001b[0m\n\u001b[1;32m   4197\u001b[0m             \u001b[0mfunc_name\u001b[0m \u001b[0;34m(\u001b[0m\u001b[0mstr\u001b[0m\u001b[0;34m)\u001b[0m\u001b[0;34m:\u001b[0m \u001b[0mthe\u001b[0m \u001b[0mname\u001b[0m \u001b[0mof\u001b[0m \u001b[0mthe\u001b[0m \u001b[0mfunction\u001b[0m \u001b[0mneeded\u001b[0m \u001b[0mintercepting\u001b[0m\u001b[0;34m\u001b[0m\u001b[0;34m\u001b[0m\u001b[0m\n\u001b[1;32m   4198\u001b[0m         \"\"\"\n\u001b[0;32m-> 4199\u001b[0;31m         \u001b[0;32mreturn\u001b[0m \u001b[0mcreate\u001b[0m\u001b[0;34m(\u001b[0m\u001b[0mrequest\u001b[0m\u001b[0;34m)\u001b[0m\u001b[0;34m\u001b[0m\u001b[0;34m\u001b[0m\u001b[0m\n\u001b[0m\u001b[1;32m   4200\u001b[0m \u001b[0;34m\u001b[0m\u001b[0m\n\u001b[1;32m   4201\u001b[0m \u001b[0;34m\u001b[0m\u001b[0m\n",
      "\u001b[0;32m~/anaconda3/envs/python3/lib/python3.6/site-packages/sagemaker/session.py\u001b[0m in \u001b[0;36msubmit\u001b[0;34m(request)\u001b[0m\n\u001b[1;32m    590\u001b[0m             \u001b[0mLOGGER\u001b[0m\u001b[0;34m.\u001b[0m\u001b[0minfo\u001b[0m\u001b[0;34m(\u001b[0m\u001b[0;34m\"Creating training-job with name: %s\"\u001b[0m\u001b[0;34m,\u001b[0m \u001b[0mjob_name\u001b[0m\u001b[0;34m)\u001b[0m\u001b[0;34m\u001b[0m\u001b[0;34m\u001b[0m\u001b[0m\n\u001b[1;32m    591\u001b[0m             \u001b[0mLOGGER\u001b[0m\u001b[0;34m.\u001b[0m\u001b[0mdebug\u001b[0m\u001b[0;34m(\u001b[0m\u001b[0;34m\"train request: %s\"\u001b[0m\u001b[0;34m,\u001b[0m \u001b[0mjson\u001b[0m\u001b[0;34m.\u001b[0m\u001b[0mdumps\u001b[0m\u001b[0;34m(\u001b[0m\u001b[0mrequest\u001b[0m\u001b[0;34m,\u001b[0m \u001b[0mindent\u001b[0m\u001b[0;34m=\u001b[0m\u001b[0;36m4\u001b[0m\u001b[0;34m)\u001b[0m\u001b[0;34m)\u001b[0m\u001b[0;34m\u001b[0m\u001b[0;34m\u001b[0m\u001b[0m\n\u001b[0;32m--> 592\u001b[0;31m             \u001b[0mself\u001b[0m\u001b[0;34m.\u001b[0m\u001b[0msagemaker_client\u001b[0m\u001b[0;34m.\u001b[0m\u001b[0mcreate_training_job\u001b[0m\u001b[0;34m(\u001b[0m\u001b[0;34m**\u001b[0m\u001b[0mrequest\u001b[0m\u001b[0;34m)\u001b[0m\u001b[0;34m\u001b[0m\u001b[0;34m\u001b[0m\u001b[0m\n\u001b[0m\u001b[1;32m    593\u001b[0m \u001b[0;34m\u001b[0m\u001b[0m\n\u001b[1;32m    594\u001b[0m         \u001b[0mself\u001b[0m\u001b[0;34m.\u001b[0m\u001b[0m_intercept_create_request\u001b[0m\u001b[0;34m(\u001b[0m\u001b[0mtrain_request\u001b[0m\u001b[0;34m,\u001b[0m \u001b[0msubmit\u001b[0m\u001b[0;34m)\u001b[0m\u001b[0;34m\u001b[0m\u001b[0;34m\u001b[0m\u001b[0m\n",
      "\u001b[0;32m~/anaconda3/envs/python3/lib/python3.6/site-packages/botocore/client.py\u001b[0m in \u001b[0;36m_api_call\u001b[0;34m(self, *args, **kwargs)\u001b[0m\n\u001b[1;32m    399\u001b[0m                     \"%s() only accepts keyword arguments.\" % py_operation_name)\n\u001b[1;32m    400\u001b[0m             \u001b[0;31m# The \"self\" in this scope is referring to the BaseClient.\u001b[0m\u001b[0;34m\u001b[0m\u001b[0;34m\u001b[0m\u001b[0;34m\u001b[0m\u001b[0m\n\u001b[0;32m--> 401\u001b[0;31m             \u001b[0;32mreturn\u001b[0m \u001b[0mself\u001b[0m\u001b[0;34m.\u001b[0m\u001b[0m_make_api_call\u001b[0m\u001b[0;34m(\u001b[0m\u001b[0moperation_name\u001b[0m\u001b[0;34m,\u001b[0m \u001b[0mkwargs\u001b[0m\u001b[0;34m)\u001b[0m\u001b[0;34m\u001b[0m\u001b[0;34m\u001b[0m\u001b[0m\n\u001b[0m\u001b[1;32m    402\u001b[0m \u001b[0;34m\u001b[0m\u001b[0m\n\u001b[1;32m    403\u001b[0m         \u001b[0m_api_call\u001b[0m\u001b[0;34m.\u001b[0m\u001b[0m__name__\u001b[0m \u001b[0;34m=\u001b[0m \u001b[0mstr\u001b[0m\u001b[0;34m(\u001b[0m\u001b[0mpy_operation_name\u001b[0m\u001b[0;34m)\u001b[0m\u001b[0;34m\u001b[0m\u001b[0;34m\u001b[0m\u001b[0m\n",
      "\u001b[0;32m~/anaconda3/envs/python3/lib/python3.6/site-packages/botocore/client.py\u001b[0m in \u001b[0;36m_make_api_call\u001b[0;34m(self, operation_name, api_params)\u001b[0m\n\u001b[1;32m    729\u001b[0m             \u001b[0merror_code\u001b[0m \u001b[0;34m=\u001b[0m \u001b[0mparsed_response\u001b[0m\u001b[0;34m.\u001b[0m\u001b[0mget\u001b[0m\u001b[0;34m(\u001b[0m\u001b[0;34m\"Error\"\u001b[0m\u001b[0;34m,\u001b[0m \u001b[0;34m{\u001b[0m\u001b[0;34m}\u001b[0m\u001b[0;34m)\u001b[0m\u001b[0;34m.\u001b[0m\u001b[0mget\u001b[0m\u001b[0;34m(\u001b[0m\u001b[0;34m\"Code\"\u001b[0m\u001b[0;34m)\u001b[0m\u001b[0;34m\u001b[0m\u001b[0;34m\u001b[0m\u001b[0m\n\u001b[1;32m    730\u001b[0m             \u001b[0merror_class\u001b[0m \u001b[0;34m=\u001b[0m \u001b[0mself\u001b[0m\u001b[0;34m.\u001b[0m\u001b[0mexceptions\u001b[0m\u001b[0;34m.\u001b[0m\u001b[0mfrom_code\u001b[0m\u001b[0;34m(\u001b[0m\u001b[0merror_code\u001b[0m\u001b[0;34m)\u001b[0m\u001b[0;34m\u001b[0m\u001b[0;34m\u001b[0m\u001b[0m\n\u001b[0;32m--> 731\u001b[0;31m             \u001b[0;32mraise\u001b[0m \u001b[0merror_class\u001b[0m\u001b[0;34m(\u001b[0m\u001b[0mparsed_response\u001b[0m\u001b[0;34m,\u001b[0m \u001b[0moperation_name\u001b[0m\u001b[0;34m)\u001b[0m\u001b[0;34m\u001b[0m\u001b[0;34m\u001b[0m\u001b[0m\n\u001b[0m\u001b[1;32m    732\u001b[0m         \u001b[0;32melse\u001b[0m\u001b[0;34m:\u001b[0m\u001b[0;34m\u001b[0m\u001b[0;34m\u001b[0m\u001b[0m\n\u001b[1;32m    733\u001b[0m             \u001b[0;32mreturn\u001b[0m \u001b[0mparsed_response\u001b[0m\u001b[0;34m\u001b[0m\u001b[0;34m\u001b[0m\u001b[0m\n",
      "\u001b[0;31mClientError\u001b[0m: An error occurred (ValidationException) when calling the CreateTrainingJob operation: No S3 objects found under S3 URL \"s3://sagemaker-us-west-1-820374384265/DEMO-DL\" given in input data source. Please ensure that the bucket exists in the selected region (us-west-1), that objects exist under that S3 prefix, and that the role \"arn:aws:iam::820374384265:role/service-role/AmazonSageMakerServiceCatalogProductsUseRole\" has \"s3:ListBucket\" permissions on bucket \"sagemaker-us-west-1-820374384265\"."
     ]
    }
   ],
   "source": [
    "account = sess.boto_session.client(\"sts\").get_caller_identity()[\"Account\"]\n",
    "region = sess.boto_session.region_name\n",
    "image = \"{}.dkr.ecr.{}.amazonaws.com/demo-DL:latest\".format(account, region)\n",
    "\n",
    "tree = sage.estimator.Estimator(\n",
    "    image,\n",
    "    role,\n",
    "    1,\n",
    "    \"ml.c4.2xlarge\",\n",
    "    output_path=\"s3://{}/output\".format(sess.default_bucket()),\n",
    "    sagemaker_session=sess,\n",
    ")\n",
    "\n",
    "tree.fit(data_location)"
   ]
  },
  {
   "cell_type": "code",
   "execution_count": null,
   "metadata": {
    "colab": {
     "base_uri": "https://localhost:8080/"
    },
    "id": "Bwb7ZaKaB75a",
    "outputId": "a215fb3c-ca16-4507-e428-f1e6456614b9"
   },
   "outputs": [
    {
     "name": "stdout",
     "output_type": "stream",
     "text": [
      "Drive already mounted at /content/drive; to attempt to forcibly remount, call drive.mount(\"/content/drive\", force_remount=True).\n"
     ]
    }
   ],
   "source": [
    "# Mounting the drive so that dataset can be loaded\n",
    "\n",
    "from google.colab import drive\n",
    "drive.mount('/content/drive')"
   ]
  },
  {
   "cell_type": "code",
   "execution_count": null,
   "metadata": {
    "id": "RZbxDjTNCFGo"
   },
   "outputs": [],
   "source": [
    "dataset_folder_name = '/content/drive/MyDrive/Age_Geneder_UTKDataSet/UTKFace'\n",
    "TRAIN_TEST_SPLIT = 0.8\n",
    "IM_WIDTH = IM_HEIGHT = 198\n",
    "\n",
    "dataset_dict = {\n",
    "    'race_id': {\n",
    "        0: 'white', \n",
    "        1: 'black', \n",
    "        2: 'asian', \n",
    "        3: 'indian', \n",
    "        4: 'others'\n",
    "    },\n",
    "    'gender_id': {\n",
    "        0: 'male',\n",
    "        1: 'female'\n",
    "    }\n",
    "}\n",
    "\n",
    "dataset_dict['gender_alias'] = dict((g, i) for i, g in dataset_dict['gender_id'].items())    # (Gender: id)\n",
    "dataset_dict['race_alias'] = dict((r, i) for i, r in dataset_dict['race_id'].items())        # (Race: id)"
   ]
  },
  {
   "cell_type": "code",
   "execution_count": null,
   "metadata": {
    "id": "kXkn8umRCPuM"
   },
   "outputs": [],
   "source": [
    "# Let's also define a function to help us on extracting the data from our dataset. This function will be\n",
    "# used to iterate over each file of the UTK dataset and return a Pandas Dataframe containing all the\n",
    "# fields (age, gender and sex) of our records.\n",
    "\n",
    "def parse_dataset(dataset_path, ext='jpg'):\n",
    "    \"\"\"\n",
    "    Used to extract information about our dataset. It does iterate over all images and return a DataFrame\n",
    "     with the data (age, gender and sex) of all files.\n",
    "    \"\"\"\n",
    "    def parse_info_from_file(path):\n",
    "        \"\"\"\n",
    "        Parse information from a single file\n",
    "        \"\"\"\n",
    "        try:\n",
    "            filename = os.path.split(path)[1]\n",
    "            filename = os.path.splitext(filename)[0]\n",
    "            age, gender, race, _ = filename.split('_')\n",
    "\n",
    "            return int(age), dataset_dict['gender_id'][int(gender)], dataset_dict['race_id'][int(race)]\n",
    "        except Exception as ex:\n",
    "            return None, None, None\n",
    "        \n",
    "    files = glob.glob(os.path.join(dataset_path, \"*.%s\" % ext))\n",
    "    \n",
    "    records = []\n",
    "    for file in files:\n",
    "        info = parse_info_from_file(file)\n",
    "        records.append(info)\n",
    "        \n",
    "    df = pd.DataFrame(records)\n",
    "    df['file'] = files\n",
    "    df.columns = ['age', 'gender', 'race', 'file']\n",
    "    \n",
    "   \n",
    "    df = df.dropna()\n",
    "    \n",
    "    return df"
   ]
  },
  {
   "cell_type": "code",
   "execution_count": null,
   "metadata": {
    "colab": {
     "base_uri": "https://localhost:8080/",
     "height": 206
    },
    "id": "ybscrdgBCWxr",
    "outputId": "39dcf978-0993-4d6c-8550-937f6c773c86"
   },
   "outputs": [
    {
     "data": {
      "text/html": [
       "\n",
       "  <div id=\"df-aadea72d-ebbe-4954-9592-bb1b399ed621\">\n",
       "    <div class=\"colab-df-container\">\n",
       "      <div>\n",
       "<style scoped>\n",
       "    .dataframe tbody tr th:only-of-type {\n",
       "        vertical-align: middle;\n",
       "    }\n",
       "\n",
       "    .dataframe tbody tr th {\n",
       "        vertical-align: top;\n",
       "    }\n",
       "\n",
       "    .dataframe thead th {\n",
       "        text-align: right;\n",
       "    }\n",
       "</style>\n",
       "<table border=\"1\" class=\"dataframe\">\n",
       "  <thead>\n",
       "    <tr style=\"text-align: right;\">\n",
       "      <th></th>\n",
       "      <th>age</th>\n",
       "      <th>gender</th>\n",
       "      <th>race</th>\n",
       "      <th>file</th>\n",
       "    </tr>\n",
       "  </thead>\n",
       "  <tbody>\n",
       "    <tr>\n",
       "      <th>0</th>\n",
       "      <td>23.0</td>\n",
       "      <td>female</td>\n",
       "      <td>indian</td>\n",
       "      <td>/content/drive/MyDrive/Age_Geneder_UTKDataSet/...</td>\n",
       "    </tr>\n",
       "    <tr>\n",
       "      <th>1</th>\n",
       "      <td>23.0</td>\n",
       "      <td>female</td>\n",
       "      <td>indian</td>\n",
       "      <td>/content/drive/MyDrive/Age_Geneder_UTKDataSet/...</td>\n",
       "    </tr>\n",
       "    <tr>\n",
       "      <th>2</th>\n",
       "      <td>23.0</td>\n",
       "      <td>female</td>\n",
       "      <td>indian</td>\n",
       "      <td>/content/drive/MyDrive/Age_Geneder_UTKDataSet/...</td>\n",
       "    </tr>\n",
       "    <tr>\n",
       "      <th>3</th>\n",
       "      <td>23.0</td>\n",
       "      <td>female</td>\n",
       "      <td>indian</td>\n",
       "      <td>/content/drive/MyDrive/Age_Geneder_UTKDataSet/...</td>\n",
       "    </tr>\n",
       "    <tr>\n",
       "      <th>4</th>\n",
       "      <td>24.0</td>\n",
       "      <td>male</td>\n",
       "      <td>white</td>\n",
       "      <td>/content/drive/MyDrive/Age_Geneder_UTKDataSet/...</td>\n",
       "    </tr>\n",
       "  </tbody>\n",
       "</table>\n",
       "</div>\n",
       "      <button class=\"colab-df-convert\" onclick=\"convertToInteractive('df-aadea72d-ebbe-4954-9592-bb1b399ed621')\"\n",
       "              title=\"Convert this dataframe to an interactive table.\"\n",
       "              style=\"display:none;\">\n",
       "        \n",
       "  <svg xmlns=\"http://www.w3.org/2000/svg\" height=\"24px\"viewBox=\"0 0 24 24\"\n",
       "       width=\"24px\">\n",
       "    <path d=\"M0 0h24v24H0V0z\" fill=\"none\"/>\n",
       "    <path d=\"M18.56 5.44l.94 2.06.94-2.06 2.06-.94-2.06-.94-.94-2.06-.94 2.06-2.06.94zm-11 1L8.5 8.5l.94-2.06 2.06-.94-2.06-.94L8.5 2.5l-.94 2.06-2.06.94zm10 10l.94 2.06.94-2.06 2.06-.94-2.06-.94-.94-2.06-.94 2.06-2.06.94z\"/><path d=\"M17.41 7.96l-1.37-1.37c-.4-.4-.92-.59-1.43-.59-.52 0-1.04.2-1.43.59L10.3 9.45l-7.72 7.72c-.78.78-.78 2.05 0 2.83L4 21.41c.39.39.9.59 1.41.59.51 0 1.02-.2 1.41-.59l7.78-7.78 2.81-2.81c.8-.78.8-2.07 0-2.86zM5.41 20L4 18.59l7.72-7.72 1.47 1.35L5.41 20z\"/>\n",
       "  </svg>\n",
       "      </button>\n",
       "      \n",
       "  <style>\n",
       "    .colab-df-container {\n",
       "      display:flex;\n",
       "      flex-wrap:wrap;\n",
       "      gap: 12px;\n",
       "    }\n",
       "\n",
       "    .colab-df-convert {\n",
       "      background-color: #E8F0FE;\n",
       "      border: none;\n",
       "      border-radius: 50%;\n",
       "      cursor: pointer;\n",
       "      display: none;\n",
       "      fill: #1967D2;\n",
       "      height: 32px;\n",
       "      padding: 0 0 0 0;\n",
       "      width: 32px;\n",
       "    }\n",
       "\n",
       "    .colab-df-convert:hover {\n",
       "      background-color: #E2EBFA;\n",
       "      box-shadow: 0px 1px 2px rgba(60, 64, 67, 0.3), 0px 1px 3px 1px rgba(60, 64, 67, 0.15);\n",
       "      fill: #174EA6;\n",
       "    }\n",
       "\n",
       "    [theme=dark] .colab-df-convert {\n",
       "      background-color: #3B4455;\n",
       "      fill: #D2E3FC;\n",
       "    }\n",
       "\n",
       "    [theme=dark] .colab-df-convert:hover {\n",
       "      background-color: #434B5C;\n",
       "      box-shadow: 0px 1px 3px 1px rgba(0, 0, 0, 0.15);\n",
       "      filter: drop-shadow(0px 1px 2px rgba(0, 0, 0, 0.3));\n",
       "      fill: #FFFFFF;\n",
       "    }\n",
       "  </style>\n",
       "\n",
       "      <script>\n",
       "        const buttonEl =\n",
       "          document.querySelector('#df-aadea72d-ebbe-4954-9592-bb1b399ed621 button.colab-df-convert');\n",
       "        buttonEl.style.display =\n",
       "          google.colab.kernel.accessAllowed ? 'block' : 'none';\n",
       "\n",
       "        async function convertToInteractive(key) {\n",
       "          const element = document.querySelector('#df-aadea72d-ebbe-4954-9592-bb1b399ed621');\n",
       "          const dataTable =\n",
       "            await google.colab.kernel.invokeFunction('convertToInteractive',\n",
       "                                                     [key], {});\n",
       "          if (!dataTable) return;\n",
       "\n",
       "          const docLinkHtml = 'Like what you see? Visit the ' +\n",
       "            '<a target=\"_blank\" href=https://colab.research.google.com/notebooks/data_table.ipynb>data table notebook</a>'\n",
       "            + ' to learn more about interactive tables.';\n",
       "          element.innerHTML = '';\n",
       "          dataTable['output_type'] = 'display_data';\n",
       "          await google.colab.output.renderOutput(dataTable, element);\n",
       "          const docLink = document.createElement('div');\n",
       "          docLink.innerHTML = docLinkHtml;\n",
       "          element.appendChild(docLink);\n",
       "        }\n",
       "      </script>\n",
       "    </div>\n",
       "  </div>\n",
       "  "
      ],
      "text/plain": [
       "    age  gender    race                                               file\n",
       "0  23.0  female  indian  /content/drive/MyDrive/Age_Geneder_UTKDataSet/...\n",
       "1  23.0  female  indian  /content/drive/MyDrive/Age_Geneder_UTKDataSet/...\n",
       "2  23.0  female  indian  /content/drive/MyDrive/Age_Geneder_UTKDataSet/...\n",
       "3  23.0  female  indian  /content/drive/MyDrive/Age_Geneder_UTKDataSet/...\n",
       "4  24.0    male   white  /content/drive/MyDrive/Age_Geneder_UTKDataSet/..."
      ]
     },
     "execution_count": 11,
     "metadata": {},
     "output_type": "execute_result"
    }
   ],
   "source": [
    "df = parse_dataset(dataset_folder_name)\n",
    "df.head()\n",
    "\n",
    "# Now we have a pandas dataframe with us. This can be dealt with quite easily. Like, we simply now need \n",
    "# to OHE gender, race and feed it into model. Using Pandas dataframe also allows me to manipulate and \n",
    "# visualize data by plotting graphs."
   ]
  },
  {
   "cell_type": "markdown",
   "metadata": {
    "id": "zabsZu_l49ss"
   },
   "source": [
    "### Data analysis & visualization (EDA)\n",
    "\n",
    "After some data preprocessing, let's analyze the data using graphs to get a  better understanding about its distribution\n",
    "\n",
    "\n",
    "\n"
   ]
  },
  {
   "cell_type": "code",
   "execution_count": null,
   "metadata": {
    "colab": {
     "base_uri": "https://localhost:8080/"
    },
    "id": "Z1wm7NyCmcbc",
    "outputId": "c069473f-0d1a-4518-9006-f28a19b80fc3"
   },
   "outputs": [
    {
     "name": "stdout",
     "output_type": "stream",
     "text": [
      "<class 'pandas.core.frame.DataFrame'>\n",
      "Int64Index: 8600 entries, 0 to 8600\n",
      "Data columns (total 4 columns):\n",
      " #   Column  Non-Null Count  Dtype  \n",
      "---  ------  --------------  -----  \n",
      " 0   age     8600 non-null   float64\n",
      " 1   gender  8600 non-null   object \n",
      " 2   race    8600 non-null   object \n",
      " 3   file    8600 non-null   object \n",
      "dtypes: float64(1), object(3)\n",
      "memory usage: 335.9+ KB\n"
     ]
    }
   ],
   "source": [
    "df.info()       # No NAN values. Clean dataset"
   ]
  },
  {
   "cell_type": "code",
   "execution_count": null,
   "metadata": {
    "colab": {
     "base_uri": "https://localhost:8080/",
     "height": 300
    },
    "id": "tlQO4_WKmihH",
    "outputId": "4fbae841-c295-4fe5-f521-f3a5af934c41"
   },
   "outputs": [
    {
     "data": {
      "text/html": [
       "\n",
       "  <div id=\"df-03aa984e-bc94-453f-ba44-98b940f70cc4\">\n",
       "    <div class=\"colab-df-container\">\n",
       "      <div>\n",
       "<style scoped>\n",
       "    .dataframe tbody tr th:only-of-type {\n",
       "        vertical-align: middle;\n",
       "    }\n",
       "\n",
       "    .dataframe tbody tr th {\n",
       "        vertical-align: top;\n",
       "    }\n",
       "\n",
       "    .dataframe thead th {\n",
       "        text-align: right;\n",
       "    }\n",
       "</style>\n",
       "<table border=\"1\" class=\"dataframe\">\n",
       "  <thead>\n",
       "    <tr style=\"text-align: right;\">\n",
       "      <th></th>\n",
       "      <th>age</th>\n",
       "    </tr>\n",
       "  </thead>\n",
       "  <tbody>\n",
       "    <tr>\n",
       "      <th>count</th>\n",
       "      <td>8600.000000</td>\n",
       "    </tr>\n",
       "    <tr>\n",
       "      <th>mean</th>\n",
       "      <td>33.331512</td>\n",
       "    </tr>\n",
       "    <tr>\n",
       "      <th>std</th>\n",
       "      <td>19.715395</td>\n",
       "    </tr>\n",
       "    <tr>\n",
       "      <th>min</th>\n",
       "      <td>1.000000</td>\n",
       "    </tr>\n",
       "    <tr>\n",
       "      <th>25%</th>\n",
       "      <td>23.000000</td>\n",
       "    </tr>\n",
       "    <tr>\n",
       "      <th>50%</th>\n",
       "      <td>29.000000</td>\n",
       "    </tr>\n",
       "    <tr>\n",
       "      <th>75%</th>\n",
       "      <td>45.000000</td>\n",
       "    </tr>\n",
       "    <tr>\n",
       "      <th>max</th>\n",
       "      <td>116.000000</td>\n",
       "    </tr>\n",
       "  </tbody>\n",
       "</table>\n",
       "</div>\n",
       "      <button class=\"colab-df-convert\" onclick=\"convertToInteractive('df-03aa984e-bc94-453f-ba44-98b940f70cc4')\"\n",
       "              title=\"Convert this dataframe to an interactive table.\"\n",
       "              style=\"display:none;\">\n",
       "        \n",
       "  <svg xmlns=\"http://www.w3.org/2000/svg\" height=\"24px\"viewBox=\"0 0 24 24\"\n",
       "       width=\"24px\">\n",
       "    <path d=\"M0 0h24v24H0V0z\" fill=\"none\"/>\n",
       "    <path d=\"M18.56 5.44l.94 2.06.94-2.06 2.06-.94-2.06-.94-.94-2.06-.94 2.06-2.06.94zm-11 1L8.5 8.5l.94-2.06 2.06-.94-2.06-.94L8.5 2.5l-.94 2.06-2.06.94zm10 10l.94 2.06.94-2.06 2.06-.94-2.06-.94-.94-2.06-.94 2.06-2.06.94z\"/><path d=\"M17.41 7.96l-1.37-1.37c-.4-.4-.92-.59-1.43-.59-.52 0-1.04.2-1.43.59L10.3 9.45l-7.72 7.72c-.78.78-.78 2.05 0 2.83L4 21.41c.39.39.9.59 1.41.59.51 0 1.02-.2 1.41-.59l7.78-7.78 2.81-2.81c.8-.78.8-2.07 0-2.86zM5.41 20L4 18.59l7.72-7.72 1.47 1.35L5.41 20z\"/>\n",
       "  </svg>\n",
       "      </button>\n",
       "      \n",
       "  <style>\n",
       "    .colab-df-container {\n",
       "      display:flex;\n",
       "      flex-wrap:wrap;\n",
       "      gap: 12px;\n",
       "    }\n",
       "\n",
       "    .colab-df-convert {\n",
       "      background-color: #E8F0FE;\n",
       "      border: none;\n",
       "      border-radius: 50%;\n",
       "      cursor: pointer;\n",
       "      display: none;\n",
       "      fill: #1967D2;\n",
       "      height: 32px;\n",
       "      padding: 0 0 0 0;\n",
       "      width: 32px;\n",
       "    }\n",
       "\n",
       "    .colab-df-convert:hover {\n",
       "      background-color: #E2EBFA;\n",
       "      box-shadow: 0px 1px 2px rgba(60, 64, 67, 0.3), 0px 1px 3px 1px rgba(60, 64, 67, 0.15);\n",
       "      fill: #174EA6;\n",
       "    }\n",
       "\n",
       "    [theme=dark] .colab-df-convert {\n",
       "      background-color: #3B4455;\n",
       "      fill: #D2E3FC;\n",
       "    }\n",
       "\n",
       "    [theme=dark] .colab-df-convert:hover {\n",
       "      background-color: #434B5C;\n",
       "      box-shadow: 0px 1px 3px 1px rgba(0, 0, 0, 0.15);\n",
       "      filter: drop-shadow(0px 1px 2px rgba(0, 0, 0, 0.3));\n",
       "      fill: #FFFFFF;\n",
       "    }\n",
       "  </style>\n",
       "\n",
       "      <script>\n",
       "        const buttonEl =\n",
       "          document.querySelector('#df-03aa984e-bc94-453f-ba44-98b940f70cc4 button.colab-df-convert');\n",
       "        buttonEl.style.display =\n",
       "          google.colab.kernel.accessAllowed ? 'block' : 'none';\n",
       "\n",
       "        async function convertToInteractive(key) {\n",
       "          const element = document.querySelector('#df-03aa984e-bc94-453f-ba44-98b940f70cc4');\n",
       "          const dataTable =\n",
       "            await google.colab.kernel.invokeFunction('convertToInteractive',\n",
       "                                                     [key], {});\n",
       "          if (!dataTable) return;\n",
       "\n",
       "          const docLinkHtml = 'Like what you see? Visit the ' +\n",
       "            '<a target=\"_blank\" href=https://colab.research.google.com/notebooks/data_table.ipynb>data table notebook</a>'\n",
       "            + ' to learn more about interactive tables.';\n",
       "          element.innerHTML = '';\n",
       "          dataTable['output_type'] = 'display_data';\n",
       "          await google.colab.output.renderOutput(dataTable, element);\n",
       "          const docLink = document.createElement('div');\n",
       "          docLink.innerHTML = docLinkHtml;\n",
       "          element.appendChild(docLink);\n",
       "        }\n",
       "      </script>\n",
       "    </div>\n",
       "  </div>\n",
       "  "
      ],
      "text/plain": [
       "               age\n",
       "count  8600.000000\n",
       "mean     33.331512\n",
       "std      19.715395\n",
       "min       1.000000\n",
       "25%      23.000000\n",
       "50%      29.000000\n",
       "75%      45.000000\n",
       "max     116.000000"
      ]
     },
     "execution_count": 14,
     "metadata": {},
     "output_type": "execute_result"
    }
   ],
   "source": [
    "df.describe()\n",
    "\n",
    "# Lower percentile - 25, median - 50 & upper percentile - 75 (for numerical data)"
   ]
  },
  {
   "cell_type": "code",
   "execution_count": null,
   "metadata": {
    "colab": {
     "base_uri": "https://localhost:8080/",
     "height": 265
    },
    "id": "K-d6Te5jCZAP",
    "outputId": "cd7699d3-153f-4efa-c38c-02dda90baa87"
   },
   "outputs": [
    {
     "data": {
      "image/png": "[encoded data removed]",
      "text/plain": [
       "<Figure size 432x288 with 1 Axes>"
      ]
     },
     "metadata": {
      "needs_background": "light"
     },
     "output_type": "display_data"
    }
   ],
   "source": [
    "ages = df['age']\n",
    "nbins = 10\n",
    "plt.hist(ages,nbins,color='green',histtype='bar')\n",
    "plt.show()\n",
    "\n",
    "# Majority population lies between 20-30 age group. Clearly, the dataset is not very well balanced. So training will \n",
    "# not be easy & accurate. We don't want to be biased. Try using class weights ?"
   ]
  },
  {
   "cell_type": "code",
   "execution_count": null,
   "metadata": {
    "colab": {
     "base_uri": "https://localhost:8080/",
     "height": 270
    },
    "id": "_zqXUmzvCoY8",
    "outputId": "fc70e755-7a86-483b-cac0-180eed606ddf"
   },
   "outputs": [
    {
     "data": {
      "image/png": "[encoded data removed]",
      "text/plain": [
       "<Figure size 432x288 with 1 Axes>"
      ]
     },
     "metadata": {},
     "output_type": "display_data"
    }
   ],
   "source": [
    "x = (df.gender=='male').sum()\n",
    "y = (df.gender=='female').sum()\n",
    "gender = [x,y]\n",
    "labels = ['male','female']\n",
    "colors = [ 'y', 'g'] \n",
    "plt.pie(gender,labels = labels,colors = colors,radius=1.2,autopct='%.1f%%')\n",
    "plt.show()\n",
    "\n",
    "# Uniform distribution to a large extent. Although, males slightly exceed females in numbers.No need to change gender in data. \n",
    "# Pretty well balanced ! Lets also visualize this on a bar graph (to get better understanding of numbers)"
   ]
  },
  {
   "cell_type": "code",
   "execution_count": null,
   "metadata": {
    "colab": {
     "base_uri": "https://localhost:8080/",
     "height": 279
    },
    "id": "WPmYRcKWm2oA",
    "outputId": "221110b8-55dd-4157-9351-8efa6c6de9df"
   },
   "outputs": [
    {
     "data": {
      "image/png": "[encoded data removed]",
      "text/plain": [
       "<Figure size 432x288 with 1 Axes>"
      ]
     },
     "metadata": {
      "needs_background": "light"
     },
     "output_type": "display_data"
    }
   ],
   "source": [
    "sns.countplot(x='gender', data=df);\n",
    "\n",
    "# Males ~ Just over 12k\n",
    "# Females ~ Just over 11k"
   ]
  },
  {
   "cell_type": "code",
   "execution_count": null,
   "metadata": {
    "colab": {
     "base_uri": "https://localhost:8080/",
     "height": 143
    },
    "id": "URvsgIlLm5WQ",
    "outputId": "6168533f-e5a0-47cd-9c50-83e1853b7b31"
   },
   "outputs": [
    {
     "data": {
      "text/html": [
       "\n",
       "  <div id=\"df-8a208e9e-436c-4dda-878f-ff71540a9d19\">\n",
       "    <div class=\"colab-df-container\">\n",
       "      <div>\n",
       "<style scoped>\n",
       "    .dataframe tbody tr th:only-of-type {\n",
       "        vertical-align: middle;\n",
       "    }\n",
       "\n",
       "    .dataframe tbody tr th {\n",
       "        vertical-align: top;\n",
       "    }\n",
       "\n",
       "    .dataframe thead th {\n",
       "        text-align: right;\n",
       "    }\n",
       "</style>\n",
       "<table border=\"1\" class=\"dataframe\">\n",
       "  <thead>\n",
       "    <tr style=\"text-align: right;\">\n",
       "      <th></th>\n",
       "      <th>age</th>\n",
       "    </tr>\n",
       "    <tr>\n",
       "      <th>gender</th>\n",
       "      <th></th>\n",
       "    </tr>\n",
       "  </thead>\n",
       "  <tbody>\n",
       "    <tr>\n",
       "      <th>female</th>\n",
       "      <td>30.750670</td>\n",
       "    </tr>\n",
       "    <tr>\n",
       "      <th>male</th>\n",
       "      <td>35.686235</td>\n",
       "    </tr>\n",
       "  </tbody>\n",
       "</table>\n",
       "</div>\n",
       "      <button class=\"colab-df-convert\" onclick=\"convertToInteractive('df-8a208e9e-436c-4dda-878f-ff71540a9d19')\"\n",
       "              title=\"Convert this dataframe to an interactive table.\"\n",
       "              style=\"display:none;\">\n",
       "        \n",
       "  <svg xmlns=\"http://www.w3.org/2000/svg\" height=\"24px\"viewBox=\"0 0 24 24\"\n",
       "       width=\"24px\">\n",
       "    <path d=\"M0 0h24v24H0V0z\" fill=\"none\"/>\n",
       "    <path d=\"M18.56 5.44l.94 2.06.94-2.06 2.06-.94-2.06-.94-.94-2.06-.94 2.06-2.06.94zm-11 1L8.5 8.5l.94-2.06 2.06-.94-2.06-.94L8.5 2.5l-.94 2.06-2.06.94zm10 10l.94 2.06.94-2.06 2.06-.94-2.06-.94-.94-2.06-.94 2.06-2.06.94z\"/><path d=\"M17.41 7.96l-1.37-1.37c-.4-.4-.92-.59-1.43-.59-.52 0-1.04.2-1.43.59L10.3 9.45l-7.72 7.72c-.78.78-.78 2.05 0 2.83L4 21.41c.39.39.9.59 1.41.59.51 0 1.02-.2 1.41-.59l7.78-7.78 2.81-2.81c.8-.78.8-2.07 0-2.86zM5.41 20L4 18.59l7.72-7.72 1.47 1.35L5.41 20z\"/>\n",
       "  </svg>\n",
       "      </button>\n",
       "      \n",
       "  <style>\n",
       "    .colab-df-container {\n",
       "      display:flex;\n",
       "      flex-wrap:wrap;\n",
       "      gap: 12px;\n",
       "    }\n",
       "\n",
       "    .colab-df-convert {\n",
       "      background-color: #E8F0FE;\n",
       "      border: none;\n",
       "      border-radius: 50%;\n",
       "      cursor: pointer;\n",
       "      display: none;\n",
       "      fill: #1967D2;\n",
       "      height: 32px;\n",
       "      padding: 0 0 0 0;\n",
       "      width: 32px;\n",
       "    }\n",
       "\n",
       "    .colab-df-convert:hover {\n",
       "      background-color: #E2EBFA;\n",
       "      box-shadow: 0px 1px 2px rgba(60, 64, 67, 0.3), 0px 1px 3px 1px rgba(60, 64, 67, 0.15);\n",
       "      fill: #174EA6;\n",
       "    }\n",
       "\n",
       "    [theme=dark] .colab-df-convert {\n",
       "      background-color: #3B4455;\n",
       "      fill: #D2E3FC;\n",
       "    }\n",
       "\n",
       "    [theme=dark] .colab-df-convert:hover {\n",
       "      background-color: #434B5C;\n",
       "      box-shadow: 0px 1px 3px 1px rgba(0, 0, 0, 0.15);\n",
       "      filter: drop-shadow(0px 1px 2px rgba(0, 0, 0, 0.3));\n",
       "      fill: #FFFFFF;\n",
       "    }\n",
       "  </style>\n",
       "\n",
       "      <script>\n",
       "        const buttonEl =\n",
       "          document.querySelector('#df-8a208e9e-436c-4dda-878f-ff71540a9d19 button.colab-df-convert');\n",
       "        buttonEl.style.display =\n",
       "          google.colab.kernel.accessAllowed ? 'block' : 'none';\n",
       "\n",
       "        async function convertToInteractive(key) {\n",
       "          const element = document.querySelector('#df-8a208e9e-436c-4dda-878f-ff71540a9d19');\n",
       "          const dataTable =\n",
       "            await google.colab.kernel.invokeFunction('convertToInteractive',\n",
       "                                                     [key], {});\n",
       "          if (!dataTable) return;\n",
       "\n",
       "          const docLinkHtml = 'Like what you see? Visit the ' +\n",
       "            '<a target=\"_blank\" href=https://colab.research.google.com/notebooks/data_table.ipynb>data table notebook</a>'\n",
       "            + ' to learn more about interactive tables.';\n",
       "          element.innerHTML = '';\n",
       "          dataTable['output_type'] = 'display_data';\n",
       "          await google.colab.output.renderOutput(dataTable, element);\n",
       "          const docLink = document.createElement('div');\n",
       "          docLink.innerHTML = docLinkHtml;\n",
       "          element.appendChild(docLink);\n",
       "        }\n",
       "      </script>\n",
       "    </div>\n",
       "  </div>\n",
       "  "
      ],
      "text/plain": [
       "              age\n",
       "gender           \n",
       "female  30.750670\n",
       "male    35.686235"
      ]
     },
     "execution_count": 18,
     "metadata": {},
     "output_type": "execute_result"
    }
   ],
   "source": [
    "df.groupby(['gender']).mean()             # Mean age by gender"
   ]
  },
  {
   "cell_type": "code",
   "execution_count": null,
   "metadata": {
    "colab": {
     "base_uri": "https://localhost:8080/",
     "height": 259
    },
    "id": "F7VpVyjzf60k",
    "outputId": "1e988dff-78f1-4b47-f917-d05bfdd98879"
   },
   "outputs": [
    {
     "data": {
      "image/png": "[encoded data removed]",
      "text/plain": [
       "<Figure size 432x288 with 1 Axes>"
      ]
     },
     "metadata": {},
     "output_type": "display_data"
    }
   ],
   "source": [
    "x = (df.race=='white').sum()\n",
    "y = (df.race=='black').sum()\n",
    "z = (df.race=='asian').sum()\n",
    "a = (df.race=='indian').sum()\n",
    "b = (df.race=='others').sum()\n",
    "\n",
    "gender = [x,y,z,a,b]\n",
    "labels = ['white','black','asian','indian','others']\n",
    "colors = [ 'y', 'g','b','r','m'] \n",
    "plt.pie(gender,labels = labels,colors = colors,radius=1.2,autopct='%.1f%%')\n",
    "plt.show()"
   ]
  },
  {
   "cell_type": "code",
   "execution_count": null,
   "metadata": {
    "colab": {
     "base_uri": "https://localhost:8080/",
     "height": 238
    },
    "id": "ktdLw0fCm-gO",
    "outputId": "5ce79062-7924-49bb-abb5-bab27a340b0b"
   },
   "outputs": [
    {
     "data": {
      "text/html": [
       "\n",
       "  <div id=\"df-652b680d-10c7-42eb-9356-646dd7b40f64\">\n",
       "    <div class=\"colab-df-container\">\n",
       "      <div>\n",
       "<style scoped>\n",
       "    .dataframe tbody tr th:only-of-type {\n",
       "        vertical-align: middle;\n",
       "    }\n",
       "\n",
       "    .dataframe tbody tr th {\n",
       "        vertical-align: top;\n",
       "    }\n",
       "\n",
       "    .dataframe thead th {\n",
       "        text-align: right;\n",
       "    }\n",
       "</style>\n",
       "<table border=\"1\" class=\"dataframe\">\n",
       "  <thead>\n",
       "    <tr style=\"text-align: right;\">\n",
       "      <th></th>\n",
       "      <th>age</th>\n",
       "    </tr>\n",
       "    <tr>\n",
       "      <th>race</th>\n",
       "      <th></th>\n",
       "    </tr>\n",
       "  </thead>\n",
       "  <tbody>\n",
       "    <tr>\n",
       "      <th>asian</th>\n",
       "      <td>25.852003</td>\n",
       "    </tr>\n",
       "    <tr>\n",
       "      <th>black</th>\n",
       "      <td>34.074385</td>\n",
       "    </tr>\n",
       "    <tr>\n",
       "      <th>indian</th>\n",
       "      <td>31.317606</td>\n",
       "    </tr>\n",
       "    <tr>\n",
       "      <th>others</th>\n",
       "      <td>22.846512</td>\n",
       "    </tr>\n",
       "    <tr>\n",
       "      <th>white</th>\n",
       "      <td>38.141289</td>\n",
       "    </tr>\n",
       "  </tbody>\n",
       "</table>\n",
       "</div>\n",
       "      <button class=\"colab-df-convert\" onclick=\"convertToInteractive('df-652b680d-10c7-42eb-9356-646dd7b40f64')\"\n",
       "              title=\"Convert this dataframe to an interactive table.\"\n",
       "              style=\"display:none;\">\n",
       "        \n",
       "  <svg xmlns=\"http://www.w3.org/2000/svg\" height=\"24px\"viewBox=\"0 0 24 24\"\n",
       "       width=\"24px\">\n",
       "    <path d=\"M0 0h24v24H0V0z\" fill=\"none\"/>\n",
       "    <path d=\"M18.56 5.44l.94 2.06.94-2.06 2.06-.94-2.06-.94-.94-2.06-.94 2.06-2.06.94zm-11 1L8.5 8.5l.94-2.06 2.06-.94-2.06-.94L8.5 2.5l-.94 2.06-2.06.94zm10 10l.94 2.06.94-2.06 2.06-.94-2.06-.94-.94-2.06-.94 2.06-2.06.94z\"/><path d=\"M17.41 7.96l-1.37-1.37c-.4-.4-.92-.59-1.43-.59-.52 0-1.04.2-1.43.59L10.3 9.45l-7.72 7.72c-.78.78-.78 2.05 0 2.83L4 21.41c.39.39.9.59 1.41.59.51 0 1.02-.2 1.41-.59l7.78-7.78 2.81-2.81c.8-.78.8-2.07 0-2.86zM5.41 20L4 18.59l7.72-7.72 1.47 1.35L5.41 20z\"/>\n",
       "  </svg>\n",
       "      </button>\n",
       "      \n",
       "  <style>\n",
       "    .colab-df-container {\n",
       "      display:flex;\n",
       "      flex-wrap:wrap;\n",
       "      gap: 12px;\n",
       "    }\n",
       "\n",
       "    .colab-df-convert {\n",
       "      background-color: #E8F0FE;\n",
       "      border: none;\n",
       "      border-radius: 50%;\n",
       "      cursor: pointer;\n",
       "      display: none;\n",
       "      fill: #1967D2;\n",
       "      height: 32px;\n",
       "      padding: 0 0 0 0;\n",
       "      width: 32px;\n",
       "    }\n",
       "\n",
       "    .colab-df-convert:hover {\n",
       "      background-color: #E2EBFA;\n",
       "      box-shadow: 0px 1px 2px rgba(60, 64, 67, 0.3), 0px 1px 3px 1px rgba(60, 64, 67, 0.15);\n",
       "      fill: #174EA6;\n",
       "    }\n",
       "\n",
       "    [theme=dark] .colab-df-convert {\n",
       "      background-color: #3B4455;\n",
       "      fill: #D2E3FC;\n",
       "    }\n",
       "\n",
       "    [theme=dark] .colab-df-convert:hover {\n",
       "      background-color: #434B5C;\n",
       "      box-shadow: 0px 1px 3px 1px rgba(0, 0, 0, 0.15);\n",
       "      filter: drop-shadow(0px 1px 2px rgba(0, 0, 0, 0.3));\n",
       "      fill: #FFFFFF;\n",
       "    }\n",
       "  </style>\n",
       "\n",
       "      <script>\n",
       "        const buttonEl =\n",
       "          document.querySelector('#df-652b680d-10c7-42eb-9356-646dd7b40f64 button.colab-df-convert');\n",
       "        buttonEl.style.display =\n",
       "          google.colab.kernel.accessAllowed ? 'block' : 'none';\n",
       "\n",
       "        async function convertToInteractive(key) {\n",
       "          const element = document.querySelector('#df-652b680d-10c7-42eb-9356-646dd7b40f64');\n",
       "          const dataTable =\n",
       "            await google.colab.kernel.invokeFunction('convertToInteractive',\n",
       "                                                     [key], {});\n",
       "          if (!dataTable) return;\n",
       "\n",
       "          const docLinkHtml = 'Like what you see? Visit the ' +\n",
       "            '<a target=\"_blank\" href=https://colab.research.google.com/notebooks/data_table.ipynb>data table notebook</a>'\n",
       "            + ' to learn more about interactive tables.';\n",
       "          element.innerHTML = '';\n",
       "          dataTable['output_type'] = 'display_data';\n",
       "          await google.colab.output.renderOutput(dataTable, element);\n",
       "          const docLink = document.createElement('div');\n",
       "          docLink.innerHTML = docLinkHtml;\n",
       "          element.appendChild(docLink);\n",
       "        }\n",
       "      </script>\n",
       "    </div>\n",
       "  </div>\n",
       "  "
      ],
      "text/plain": [
       "              age\n",
       "race             \n",
       "asian   25.852003\n",
       "black   34.074385\n",
       "indian  31.317606\n",
       "others  22.846512\n",
       "white   38.141289"
      ]
     },
     "execution_count": 20,
     "metadata": {},
     "output_type": "execute_result"
    }
   ],
   "source": [
    "df.groupby(['race']).mean()               # Mean age by race"
   ]
  },
  {
   "cell_type": "code",
   "execution_count": null,
   "metadata": {
    "colab": {
     "base_uri": "https://localhost:8080/",
     "height": 286
    },
    "id": "wwTJEdNhnC4v",
    "outputId": "5957e7d6-35c2-49ed-9075-d36c92691a59"
   },
   "outputs": [
    {
     "data": {
      "image/png": "[encoded data removed]",
      "text/plain": [
       "<Figure size 432x288 with 1 Axes>"
      ]
     },
     "metadata": {},
     "output_type": "display_data"
    }
   ],
   "source": [
    "sns.set(style =\"whitegrid\") \n",
    "_ = sns.stripplot(x='race',y='age',data=df)\n",
    "\n",
    "# Not very useful :( , we only understand that not many elderly ppl (above 60) in others category are present "
   ]
  },
  {
   "cell_type": "code",
   "execution_count": null,
   "metadata": {
    "colab": {
     "base_uri": "https://localhost:8080/",
     "height": 456
    },
    "id": "L21qaRLfnEIs",
    "outputId": "3a627cd9-df1a-4337-f508-62962d6135f2"
   },
   "outputs": [
    {
     "name": "stderr",
     "output_type": "stream",
     "text": [
      "/usr/local/lib/python3.7/dist-packages/seaborn/categorical.py:3717: UserWarning: The `factorplot` function has been renamed to `catplot`. The original name will be removed in a future release. Please update your code. Note that the default `kind` in `factorplot` (`'point'`) has changed `'strip'` in `catplot`.\n",
      "  warnings.warn(msg)\n",
      "/usr/local/lib/python3.7/dist-packages/seaborn/_decorators.py:43: FutureWarning: Pass the following variables as keyword args: x, y, hue. From version 0.12, the only valid positional argument will be `data`, and passing other arguments without an explicit keyword will result in an error or misinterpretation.\n",
      "  FutureWarning\n"
     ]
    },
    {
     "data": {
      "image/png": "[encoded data removed]",
      "text/plain": [
       "<Figure size 437.975x360 with 1 Axes>"
      ]
     },
     "metadata": {},
     "output_type": "display_data"
    }
   ],
   "source": [
    "sns.factorplot('race', 'age', 'gender', data=df,kind='bar');\n",
    "\n",
    "# Gives the mean age of both genders of all races"
   ]
  },
  {
   "cell_type": "code",
   "execution_count": null,
   "metadata": {
    "colab": {
     "base_uri": "https://localhost:8080/",
     "height": 394
    },
    "id": "mMwhlvZCEvfh",
    "outputId": "1b344f00-54d6-4bd5-da16-935943dccafd"
   },
   "outputs": [
    {
     "data": {
      "image/png": "[encoded data removed]",
      "text/plain": [
       "<Figure size 1080x432 with 2 Axes>"
      ]
     },
     "metadata": {},
     "output_type": "display_data"
    }
   ],
   "source": [
    "fig, (ax1, ax2) = plt.subplots(1, 2, figsize=(15, 6))\n",
    "_ = sns.boxplot(data=df, x='gender', y='age', ax=ax1)\n",
    "_ = sns.boxplot(data=df, x='race', y='age', ax=ax2)\n",
    "\n",
    "# We see that most of males are between 25 and 55, whereas most of the females are between 20 and 35\n",
    "# Even while grouping by race, we find good amount of variations in different races"
   ]
  },
  {
   "cell_type": "code",
   "execution_count": null,
   "metadata": {
    "colab": {
     "base_uri": "https://localhost:8080/",
     "height": 35
    },
    "id": "UwHXd5SiZOOe",
    "outputId": "e5f7f4a9-fe40-4cb2-a9a6-a7ed5e083ad6"
   },
   "outputs": [
    {
     "data": {
      "application/vnd.google.colaboratory.intrinsic+json": {
       "type": "string"
      },
      "text/plain": [
       "' This basically makes 5 divisions in age-groups - \\n1. 0-24\\n2. 25-49\\n3. 50-74\\n4. 75-99\\n5. 100-124 '"
      ]
     },
     "execution_count": 24,
     "metadata": {},
     "output_type": "execute_result"
    }
   ],
   "source": [
    "df['age'] = df['age']//25\n",
    "\n",
    "''' This basically makes 5 divisions in age-groups - \n",
    "1. 0-24\n",
    "2. 25-49\n",
    "3. 50-74\n",
    "4. 75-99\n",
    "5. 100-124 '''"
   ]
  },
  {
   "cell_type": "code",
   "execution_count": null,
   "metadata": {
    "colab": {
     "base_uri": "https://localhost:8080/"
    },
    "id": "jZdwi9g299yT",
    "outputId": "6f19a353-df88-4dc8-8a8d-668babafa61e"
   },
   "outputs": [
    {
     "name": "stdout",
     "output_type": "stream",
     "text": [
      "2463   4306   1478   345   8   0\n"
     ]
    }
   ],
   "source": [
    "x = (df.age==0).sum()\n",
    "y = (df.age==1).sum()\n",
    "z = (df.age==2).sum()\n",
    "a = (df.age==3).sum()\n",
    "b = (df.age==4).sum()\n",
    "c = (df.age==5).sum()\n",
    "\n",
    "print(x,' ',y,' ',z,' ',a,' ',b, ' ',c)\n"
   ]
  },
  {
   "cell_type": "code",
   "execution_count": null,
   "metadata": {
    "colab": {
     "base_uri": "https://localhost:8080/",
     "height": 206
    },
    "id": "WykEQKn9DYW-",
    "outputId": "3e6bc063-7963-4829-8676-1bdf793136fd"
   },
   "outputs": [
    {
     "data": {
      "text/html": [
       "\n",
       "  <div id=\"df-cbae3bf2-c261-40fb-8a47-be9d0063fb64\">\n",
       "    <div class=\"colab-df-container\">\n",
       "      <div>\n",
       "<style scoped>\n",
       "    .dataframe tbody tr th:only-of-type {\n",
       "        vertical-align: middle;\n",
       "    }\n",
       "\n",
       "    .dataframe tbody tr th {\n",
       "        vertical-align: top;\n",
       "    }\n",
       "\n",
       "    .dataframe thead th {\n",
       "        text-align: right;\n",
       "    }\n",
       "</style>\n",
       "<table border=\"1\" class=\"dataframe\">\n",
       "  <thead>\n",
       "    <tr style=\"text-align: right;\">\n",
       "      <th></th>\n",
       "      <th>age</th>\n",
       "      <th>gender</th>\n",
       "      <th>race</th>\n",
       "      <th>file</th>\n",
       "    </tr>\n",
       "  </thead>\n",
       "  <tbody>\n",
       "    <tr>\n",
       "      <th>0</th>\n",
       "      <td>0.0</td>\n",
       "      <td>female</td>\n",
       "      <td>indian</td>\n",
       "      <td>/content/drive/MyDrive/Age_Geneder_UTKDataSet/...</td>\n",
       "    </tr>\n",
       "    <tr>\n",
       "      <th>1</th>\n",
       "      <td>0.0</td>\n",
       "      <td>female</td>\n",
       "      <td>indian</td>\n",
       "      <td>/content/drive/MyDrive/Age_Geneder_UTKDataSet/...</td>\n",
       "    </tr>\n",
       "    <tr>\n",
       "      <th>2</th>\n",
       "      <td>0.0</td>\n",
       "      <td>female</td>\n",
       "      <td>indian</td>\n",
       "      <td>/content/drive/MyDrive/Age_Geneder_UTKDataSet/...</td>\n",
       "    </tr>\n",
       "    <tr>\n",
       "      <th>3</th>\n",
       "      <td>0.0</td>\n",
       "      <td>female</td>\n",
       "      <td>indian</td>\n",
       "      <td>/content/drive/MyDrive/Age_Geneder_UTKDataSet/...</td>\n",
       "    </tr>\n",
       "    <tr>\n",
       "      <th>4</th>\n",
       "      <td>0.0</td>\n",
       "      <td>male</td>\n",
       "      <td>white</td>\n",
       "      <td>/content/drive/MyDrive/Age_Geneder_UTKDataSet/...</td>\n",
       "    </tr>\n",
       "  </tbody>\n",
       "</table>\n",
       "</div>\n",
       "      <button class=\"colab-df-convert\" onclick=\"convertToInteractive('df-cbae3bf2-c261-40fb-8a47-be9d0063fb64')\"\n",
       "              title=\"Convert this dataframe to an interactive table.\"\n",
       "              style=\"display:none;\">\n",
       "        \n",
       "  <svg xmlns=\"http://www.w3.org/2000/svg\" height=\"24px\"viewBox=\"0 0 24 24\"\n",
       "       width=\"24px\">\n",
       "    <path d=\"M0 0h24v24H0V0z\" fill=\"none\"/>\n",
       "    <path d=\"M18.56 5.44l.94 2.06.94-2.06 2.06-.94-2.06-.94-.94-2.06-.94 2.06-2.06.94zm-11 1L8.5 8.5l.94-2.06 2.06-.94-2.06-.94L8.5 2.5l-.94 2.06-2.06.94zm10 10l.94 2.06.94-2.06 2.06-.94-2.06-.94-.94-2.06-.94 2.06-2.06.94z\"/><path d=\"M17.41 7.96l-1.37-1.37c-.4-.4-.92-.59-1.43-.59-.52 0-1.04.2-1.43.59L10.3 9.45l-7.72 7.72c-.78.78-.78 2.05 0 2.83L4 21.41c.39.39.9.59 1.41.59.51 0 1.02-.2 1.41-.59l7.78-7.78 2.81-2.81c.8-.78.8-2.07 0-2.86zM5.41 20L4 18.59l7.72-7.72 1.47 1.35L5.41 20z\"/>\n",
       "  </svg>\n",
       "      </button>\n",
       "      \n",
       "  <style>\n",
       "    .colab-df-container {\n",
       "      display:flex;\n",
       "      flex-wrap:wrap;\n",
       "      gap: 12px;\n",
       "    }\n",
       "\n",
       "    .colab-df-convert {\n",
       "      background-color: #E8F0FE;\n",
       "      border: none;\n",
       "      border-radius: 50%;\n",
       "      cursor: pointer;\n",
       "      display: none;\n",
       "      fill: #1967D2;\n",
       "      height: 32px;\n",
       "      padding: 0 0 0 0;\n",
       "      width: 32px;\n",
       "    }\n",
       "\n",
       "    .colab-df-convert:hover {\n",
       "      background-color: #E2EBFA;\n",
       "      box-shadow: 0px 1px 2px rgba(60, 64, 67, 0.3), 0px 1px 3px 1px rgba(60, 64, 67, 0.15);\n",
       "      fill: #174EA6;\n",
       "    }\n",
       "\n",
       "    [theme=dark] .colab-df-convert {\n",
       "      background-color: #3B4455;\n",
       "      fill: #D2E3FC;\n",
       "    }\n",
       "\n",
       "    [theme=dark] .colab-df-convert:hover {\n",
       "      background-color: #434B5C;\n",
       "      box-shadow: 0px 1px 3px 1px rgba(0, 0, 0, 0.15);\n",
       "      filter: drop-shadow(0px 1px 2px rgba(0, 0, 0, 0.3));\n",
       "      fill: #FFFFFF;\n",
       "    }\n",
       "  </style>\n",
       "\n",
       "      <script>\n",
       "        const buttonEl =\n",
       "          document.querySelector('#df-cbae3bf2-c261-40fb-8a47-be9d0063fb64 button.colab-df-convert');\n",
       "        buttonEl.style.display =\n",
       "          google.colab.kernel.accessAllowed ? 'block' : 'none';\n",
       "\n",
       "        async function convertToInteractive(key) {\n",
       "          const element = document.querySelector('#df-cbae3bf2-c261-40fb-8a47-be9d0063fb64');\n",
       "          const dataTable =\n",
       "            await google.colab.kernel.invokeFunction('convertToInteractive',\n",
       "                                                     [key], {});\n",
       "          if (!dataTable) return;\n",
       "\n",
       "          const docLinkHtml = 'Like what you see? Visit the ' +\n",
       "            '<a target=\"_blank\" href=https://colab.research.google.com/notebooks/data_table.ipynb>data table notebook</a>'\n",
       "            + ' to learn more about interactive tables.';\n",
       "          element.innerHTML = '';\n",
       "          dataTable['output_type'] = 'display_data';\n",
       "          await google.colab.output.renderOutput(dataTable, element);\n",
       "          const docLink = document.createElement('div');\n",
       "          docLink.innerHTML = docLinkHtml;\n",
       "          element.appendChild(docLink);\n",
       "        }\n",
       "      </script>\n",
       "    </div>\n",
       "  </div>\n",
       "  "
      ],
      "text/plain": [
       "   age  gender    race                                               file\n",
       "0  0.0  female  indian  /content/drive/MyDrive/Age_Geneder_UTKDataSet/...\n",
       "1  0.0  female  indian  /content/drive/MyDrive/Age_Geneder_UTKDataSet/...\n",
       "2  0.0  female  indian  /content/drive/MyDrive/Age_Geneder_UTKDataSet/...\n",
       "3  0.0  female  indian  /content/drive/MyDrive/Age_Geneder_UTKDataSet/...\n",
       "4  0.0    male   white  /content/drive/MyDrive/Age_Geneder_UTKDataSet/..."
      ]
     },
     "execution_count": 26,
     "metadata": {},
     "output_type": "execute_result"
    }
   ],
   "source": [
    "df.head()"
   ]
  },
  {
   "cell_type": "markdown",
   "metadata": {
    "id": "fGjYC8YbiYOr"
   },
   "source": [
    "## Data Generator\n",
    "In order to input our data to our Keras multi-output model, we have a helper object to work as a data generator for our dataset. This will be done by generating batches of data, which will be used to feed our multi-output model with both the images and their labels (instead of just loading all the dataset into the memory at once, which might lead to an out of memory error)."
   ]
  },
  {
   "cell_type": "code",
   "execution_count": null,
   "metadata": {
    "id": "kMRE13cQpr-i"
   },
   "outputs": [],
   "source": [
    "from tensorflow.keras.utils import to_categorical\n",
    "from PIL import Image\n",
    "p = np.random.permutation(len(df))\n",
    "\n",
    "train_up_to = int(len(df) * TRAIN_TEST_SPLIT)      \n",
    "train_idx = p[:train_up_to]\n",
    "val_idx = p[train_up_to:]\n",
    "\n",
    "# converts alias to id\n",
    "df['gender_id'] = df['gender'].map(lambda gender: dataset_dict['gender_alias'][gender])\n",
    "df['race_id'] = df['race'].map(lambda race: dataset_dict['race_alias'][race])\n",
    "\n",
    "# Now we got train_idx, valid_idx, test_idx\n",
    "            \n",
    "def preprocess_image(img_path):   # Used to perform some minor preprocessing on the image before inputting into the network.\n",
    "    \n",
    "    im = Image.open(img_path)\n",
    "    im = im.resize((IM_WIDTH, IM_HEIGHT))\n",
    "    im = np.array(im) / 255.0\n",
    "    \n",
    "    return im\n",
    "        \n",
    "def generate_images(image_idx, is_training, batch_size=16):  # Used to generate a batch with images when training/validating our model.\n",
    "    \n",
    "    # arrays to store our batched data\n",
    "    images, ages, races, genders = [], [], [], []\n",
    "\n",
    "    while True:\n",
    "        for idx in image_idx:\n",
    "            person = df.iloc[idx]\n",
    "            \n",
    "            age = person['age']\n",
    "            race = person['race_id']\n",
    "            gender = person['gender_id']\n",
    "            file = person['file']\n",
    "            \n",
    "            im = preprocess_image(file)\n",
    "            \n",
    "            races.append(to_categorical(race, len(dataset_dict['race_id'])))\n",
    "            genders.append(to_categorical(gender, len(dataset_dict['gender_id'])))\n",
    "            ages.append(to_categorical(age,5))\n",
    "            images.append(im)\n",
    "            \n",
    "            # yielding condition\n",
    "            if len(images) >= batch_size:\n",
    "                yield np.array(images), [np.array(ages), np.array(genders)]\n",
    "                images, ages, genders = [], [], []\n",
    "                \n",
    "        if not is_training:\n",
    "            break\n",
    "            "
   ]
  },
  {
   "cell_type": "markdown",
   "metadata": {
    "id": "_ObdH1MkKatt"
   },
   "source": [
    "## Model Architecture"
   ]
  },
  {
   "cell_type": "code",
   "execution_count": null,
   "metadata": {
    "id": "sKw1rg2SE4og"
   },
   "outputs": [],
   "source": [
    "from keras.models import Model\n",
    "from tensorflow.keras.layers import BatchNormalization\n",
    "from keras.layers.convolutional import Conv2D\n",
    "from keras.layers.convolutional import SeparableConv2D\n",
    "from keras.layers.convolutional import MaxPooling2D\n",
    "from keras.layers.core import Activation\n",
    "from keras.layers.core import Dropout\n",
    "from keras.layers import SpatialDropout2D\n",
    "from keras.layers.core import Lambda\n",
    "from keras.layers.core import Dense\n",
    "from keras.layers import Flatten\n",
    "from keras.layers import Input\n",
    "from keras.regularizers import l2\n",
    "\n",
    "import tensorflow as tf\n",
    "\n",
    "def make_default_hidden_layers(inputs):\n",
    "\n",
    "    x = SeparableConv2D(32, (3, 3), padding=\"same\")(inputs)\n",
    "    x = Activation(\"relu\")(x)\n",
    "    x = MaxPooling2D(pool_size=(3, 3))(x)\n",
    "    x = BatchNormalization(axis=-1)(x)\n",
    "\n",
    "    x = SeparableConv2D(64, (3, 3), padding=\"same\")(x)\n",
    "    x = Activation(\"relu\")(x)\n",
    "    x = MaxPooling2D(pool_size=(2, 2))(x)\n",
    "    x = BatchNormalization(axis=-1)(x)\n",
    "\n",
    "    x = SeparableConv2D(128, (3, 3), padding=\"same\")(x)\n",
    "    x = Activation(\"relu\")(x)\n",
    "    x = MaxPooling2D(pool_size=(2, 2))(x)\n",
    "    x = BatchNormalization(axis=-1)(x)\n",
    "\n",
    "    x = SeparableConv2D(128, (3, 3), padding=\"same\")(x)\n",
    "    x = Activation(\"relu\")(x)\n",
    "    x = MaxPooling2D(pool_size=(2, 2))(x)\n",
    "    x = SpatialDropout2D(0.1)(x)\n",
    "    x = BatchNormalization(axis=-1)(x)\n",
    "\n",
    "    x = SeparableConv2D(256, (3, 3), padding=\"same\")(x)\n",
    "    x = Activation(\"relu\")(x)\n",
    "    x = MaxPooling2D(pool_size=(2, 2))(x)\n",
    "    x = SpatialDropout2D(0.1)(x)\n",
    "    x = BatchNormalization(axis=-1)(x)\n",
    "\n",
    "    x = SeparableConv2D(256, (3, 3), padding=\"same\")(x)\n",
    "    x = Activation(\"relu\")(x)\n",
    "    x = MaxPooling2D(pool_size=(2, 2))(x)\n",
    "    x = SpatialDropout2D(0.15)(x)\n",
    "    x = BatchNormalization(axis=-1)(x)\n",
    "\n",
    "    x = SeparableConv2D(256, (3, 3), padding=\"same\")(x)\n",
    "    x = Activation(\"relu\")(x)\n",
    "    x = MaxPooling2D(pool_size=(2, 2))(x)\n",
    "    x = SpatialDropout2D(0.15)(x)\n",
    "    x = BatchNormalization(axis=-1)(x)\n",
    "\n",
    "    return x\n",
    "\n",
    "def build_gender_branch(inputs):\n",
    "  \n",
    "    x = make_default_hidden_layers(inputs)\n",
    "\n",
    "    x = Flatten()(x)\n",
    "    x = Dense(64)(x)\n",
    "    x = Activation(\"relu\")(x)\n",
    "    x = Dropout(0.3)(x)\n",
    "    x = BatchNormalization()(x)\n",
    "\n",
    "    x = Dense(32)(x)\n",
    "    x = Activation(\"relu\")(x)\n",
    "    x = Dropout(0.25)(x)\n",
    "    x = BatchNormalization()(x)\n",
    "  \n",
    "    x = Dense(2)(x)\n",
    "    x = Activation(\"softmax\", name=\"gender_output\")(x)\n",
    "\n",
    "    return x\n",
    "\n",
    "def build_age_branch(inputs):   \n",
    "\n",
    "    x = make_default_hidden_layers(inputs)\n",
    "    \n",
    "    x = Flatten()(x)\n",
    "    x = Dense(128, kernel_regularizer=l2(0.03))(x)\n",
    "    x = Activation(\"relu\")(x)\n",
    "    x = Dropout(0.3)(x)\n",
    "    x = BatchNormalization()(x)\n",
    "\n",
    "    x = Dense(64)(x)\n",
    "    x = Activation(\"relu\")(x)\n",
    "    x = Dropout(0.3)(x)\n",
    "    x = BatchNormalization()(x)\n",
    "    \n",
    "    x = Dense(32)(x)\n",
    "    x = Activation(\"relu\")(x)\n",
    "    x = Dropout(0.2)(x)\n",
    "    x = BatchNormalization()(x)\n",
    "\n",
    "    x = Dense(5)(x)\n",
    "    x = Activation(\"softmax\", name=\"age_output\")(x)  \n",
    "\n",
    "    return x\n",
    "\n",
    "\n",
    "def assemble_model(width, height):\n",
    "  \n",
    "    input_shape = (height, width, 3)\n",
    "    inputs = Input(shape=input_shape)\n",
    "\n",
    "    age_branch = build_age_branch(inputs)\n",
    "    gender_branch = build_gender_branch(inputs)\n",
    "\n",
    "    model = Model(inputs=inputs, outputs = [age_branch, gender_branch], name=\"face_net\")\n",
    "\n",
    "    return model\n",
    "    \n",
    "model = assemble_model(198, 198)"
   ]
  },
  {
   "cell_type": "markdown",
   "metadata": {
    "id": "mRq7S0N8hQmP"
   },
   "source": [
    "Convolutional neural networks work on 2 assumptions -\n",
    "\n",
    "1. Low level features are local\n",
    "2. What's useful in one place will also be useful in other places.\n",
    "\n",
    "Kernel size should be determined by how strongly we believe in those assumptions for the problem at hand. In general, smaller filters are considered better than larger filter sizes. Also, usually -\n",
    "\n",
    "* Number of filters tend to increase with depth of model (more representational capacity is required in the model)\n",
    "\n",
    "* Size of filters is almost always odd. Like 3x3, 5x5\n",
    "* Filter size tends to decrease with depth of the model (initial layers have larger receptive fields)."
   ]
  },
  {
   "cell_type": "code",
   "execution_count": null,
   "metadata": {
    "colab": {
     "base_uri": "https://localhost:8080/"
    },
    "id": "PtFNWMK011mL",
    "outputId": "1606a45b-326a-425e-8dca-a866592b3d9a"
   },
   "outputs": [
    {
     "name": "stdout",
     "output_type": "stream",
     "text": [
      "Model: \"face_net\"\n",
      "__________________________________________________________________________________________________\n",
      " Layer (type)                   Output Shape         Param #     Connected to                     \n",
      "==================================================================================================\n",
      " input_1 (InputLayer)           [(None, 198, 198, 3  0           []                               \n",
      "                                )]                                                                \n",
      "                                                                                                  \n",
      " separable_conv2d (SeparableCon  (None, 198, 198, 32  155        ['input_1[0][0]']                \n",
      " v2D)                           )                                                                 \n",
      "                                                                                                  \n",
      " activation (Activation)        (None, 198, 198, 32  0           ['separable_conv2d[0][0]']       \n",
      "                                )                                                                 \n",
      "                                                                                                  \n",
      " max_pooling2d (MaxPooling2D)   (None, 66, 66, 32)   0           ['activation[0][0]']             \n",
      "                                                                                                  \n",
      " batch_normalization (BatchNorm  (None, 66, 66, 32)  128         ['max_pooling2d[0][0]']          \n",
      " alization)                                                                                       \n",
      "                                                                                                  \n",
      " separable_conv2d_1 (SeparableC  (None, 66, 66, 64)  2400        ['batch_normalization[0][0]']    \n",
      " onv2D)                                                                                           \n",
      "                                                                                                  \n",
      " separable_conv2d_7 (SeparableC  (None, 198, 198, 32  155        ['input_1[0][0]']                \n",
      " onv2D)                         )                                                                 \n",
      "                                                                                                  \n",
      " activation_1 (Activation)      (None, 66, 66, 64)   0           ['separable_conv2d_1[0][0]']     \n",
      "                                                                                                  \n",
      " activation_10 (Activation)     (None, 198, 198, 32  0           ['separable_conv2d_7[0][0]']     \n",
      "                                )                                                                 \n",
      "                                                                                                  \n",
      " max_pooling2d_1 (MaxPooling2D)  (None, 33, 33, 64)  0           ['activation_1[0][0]']           \n",
      "                                                                                                  \n",
      " max_pooling2d_7 (MaxPooling2D)  (None, 66, 66, 32)  0           ['activation_10[0][0]']          \n",
      "                                                                                                  \n",
      " batch_normalization_1 (BatchNo  (None, 33, 33, 64)  256         ['max_pooling2d_1[0][0]']        \n",
      " rmalization)                                                                                     \n",
      "                                                                                                  \n",
      " batch_normalization_10 (BatchN  (None, 66, 66, 32)  128         ['max_pooling2d_7[0][0]']        \n",
      " ormalization)                                                                                    \n",
      "                                                                                                  \n",
      " separable_conv2d_2 (SeparableC  (None, 33, 33, 128)  8896       ['batch_normalization_1[0][0]']  \n",
      " onv2D)                                                                                           \n",
      "                                                                                                  \n",
      " separable_conv2d_8 (SeparableC  (None, 66, 66, 64)  2400        ['batch_normalization_10[0][0]'] \n",
      " onv2D)                                                                                           \n",
      "                                                                                                  \n",
      " activation_2 (Activation)      (None, 33, 33, 128)  0           ['separable_conv2d_2[0][0]']     \n",
      "                                                                                                  \n",
      " activation_11 (Activation)     (None, 66, 66, 64)   0           ['separable_conv2d_8[0][0]']     \n",
      "                                                                                                  \n",
      " max_pooling2d_2 (MaxPooling2D)  (None, 16, 16, 128)  0          ['activation_2[0][0]']           \n",
      "                                                                                                  \n",
      " max_pooling2d_8 (MaxPooling2D)  (None, 33, 33, 64)  0           ['activation_11[0][0]']          \n",
      "                                                                                                  \n",
      " batch_normalization_2 (BatchNo  (None, 16, 16, 128)  512        ['max_pooling2d_2[0][0]']        \n",
      " rmalization)                                                                                     \n",
      "                                                                                                  \n",
      " batch_normalization_11 (BatchN  (None, 33, 33, 64)  256         ['max_pooling2d_8[0][0]']        \n",
      " ormalization)                                                                                    \n",
      "                                                                                                  \n",
      " separable_conv2d_3 (SeparableC  (None, 16, 16, 128)  17664      ['batch_normalization_2[0][0]']  \n",
      " onv2D)                                                                                           \n",
      "                                                                                                  \n",
      " separable_conv2d_9 (SeparableC  (None, 33, 33, 128)  8896       ['batch_normalization_11[0][0]'] \n",
      " onv2D)                                                                                           \n",
      "                                                                                                  \n",
      " activation_3 (Activation)      (None, 16, 16, 128)  0           ['separable_conv2d_3[0][0]']     \n",
      "                                                                                                  \n",
      " activation_12 (Activation)     (None, 33, 33, 128)  0           ['separable_conv2d_9[0][0]']     \n",
      "                                                                                                  \n",
      " max_pooling2d_3 (MaxPooling2D)  (None, 8, 8, 128)   0           ['activation_3[0][0]']           \n",
      "                                                                                                  \n",
      " max_pooling2d_9 (MaxPooling2D)  (None, 16, 16, 128)  0          ['activation_12[0][0]']          \n",
      "                                                                                                  \n",
      " spatial_dropout2d (SpatialDrop  (None, 8, 8, 128)   0           ['max_pooling2d_3[0][0]']        \n",
      " out2D)                                                                                           \n",
      "                                                                                                  \n",
      " batch_normalization_12 (BatchN  (None, 16, 16, 128)  512        ['max_pooling2d_9[0][0]']        \n",
      " ormalization)                                                                                    \n",
      "                                                                                                  \n",
      " batch_normalization_3 (BatchNo  (None, 8, 8, 128)   512         ['spatial_dropout2d[0][0]']      \n",
      " rmalization)                                                                                     \n",
      "                                                                                                  \n",
      " separable_conv2d_10 (Separable  (None, 16, 16, 128)  17664      ['batch_normalization_12[0][0]'] \n",
      " Conv2D)                                                                                          \n",
      "                                                                                                  \n",
      " separable_conv2d_4 (SeparableC  (None, 8, 8, 256)   34176       ['batch_normalization_3[0][0]']  \n",
      " onv2D)                                                                                           \n",
      "                                                                                                  \n",
      " activation_13 (Activation)     (None, 16, 16, 128)  0           ['separable_conv2d_10[0][0]']    \n",
      "                                                                                                  \n",
      " activation_4 (Activation)      (None, 8, 8, 256)    0           ['separable_conv2d_4[0][0]']     \n",
      "                                                                                                  \n",
      " max_pooling2d_10 (MaxPooling2D  (None, 8, 8, 128)   0           ['activation_13[0][0]']          \n",
      " )                                                                                                \n",
      "                                                                                                  \n",
      " max_pooling2d_4 (MaxPooling2D)  (None, 4, 4, 256)   0           ['activation_4[0][0]']           \n",
      "                                                                                                  \n",
      " spatial_dropout2d_4 (SpatialDr  (None, 8, 8, 128)   0           ['max_pooling2d_10[0][0]']       \n",
      " opout2D)                                                                                         \n",
      "                                                                                                  \n",
      " spatial_dropout2d_1 (SpatialDr  (None, 4, 4, 256)   0           ['max_pooling2d_4[0][0]']        \n",
      " opout2D)                                                                                         \n",
      "                                                                                                  \n",
      " batch_normalization_13 (BatchN  (None, 8, 8, 128)   512         ['spatial_dropout2d_4[0][0]']    \n",
      " ormalization)                                                                                    \n",
      "                                                                                                  \n",
      " batch_normalization_4 (BatchNo  (None, 4, 4, 256)   1024        ['spatial_dropout2d_1[0][0]']    \n",
      " rmalization)                                                                                     \n",
      "                                                                                                  \n",
      " separable_conv2d_11 (Separable  (None, 8, 8, 256)   34176       ['batch_normalization_13[0][0]'] \n",
      " Conv2D)                                                                                          \n",
      "                                                                                                  \n",
      " separable_conv2d_5 (SeparableC  (None, 4, 4, 256)   68096       ['batch_normalization_4[0][0]']  \n",
      " onv2D)                                                                                           \n",
      "                                                                                                  \n",
      " activation_14 (Activation)     (None, 8, 8, 256)    0           ['separable_conv2d_11[0][0]']    \n",
      "                                                                                                  \n",
      " activation_5 (Activation)      (None, 4, 4, 256)    0           ['separable_conv2d_5[0][0]']     \n",
      "                                                                                                  \n",
      " max_pooling2d_11 (MaxPooling2D  (None, 4, 4, 256)   0           ['activation_14[0][0]']          \n",
      " )                                                                                                \n",
      "                                                                                                  \n",
      " max_pooling2d_5 (MaxPooling2D)  (None, 2, 2, 256)   0           ['activation_5[0][0]']           \n",
      "                                                                                                  \n",
      " spatial_dropout2d_5 (SpatialDr  (None, 4, 4, 256)   0           ['max_pooling2d_11[0][0]']       \n",
      " opout2D)                                                                                         \n",
      "                                                                                                  \n",
      " spatial_dropout2d_2 (SpatialDr  (None, 2, 2, 256)   0           ['max_pooling2d_5[0][0]']        \n",
      " opout2D)                                                                                         \n",
      "                                                                                                  \n",
      " batch_normalization_14 (BatchN  (None, 4, 4, 256)   1024        ['spatial_dropout2d_5[0][0]']    \n",
      " ormalization)                                                                                    \n",
      "                                                                                                  \n",
      " batch_normalization_5 (BatchNo  (None, 2, 2, 256)   1024        ['spatial_dropout2d_2[0][0]']    \n",
      " rmalization)                                                                                     \n",
      "                                                                                                  \n",
      " separable_conv2d_12 (Separable  (None, 4, 4, 256)   68096       ['batch_normalization_14[0][0]'] \n",
      " Conv2D)                                                                                          \n",
      "                                                                                                  \n",
      " separable_conv2d_6 (SeparableC  (None, 2, 2, 256)   68096       ['batch_normalization_5[0][0]']  \n",
      " onv2D)                                                                                           \n",
      "                                                                                                  \n",
      " activation_15 (Activation)     (None, 4, 4, 256)    0           ['separable_conv2d_12[0][0]']    \n",
      "                                                                                                  \n",
      " activation_6 (Activation)      (None, 2, 2, 256)    0           ['separable_conv2d_6[0][0]']     \n",
      "                                                                                                  \n",
      " max_pooling2d_12 (MaxPooling2D  (None, 2, 2, 256)   0           ['activation_15[0][0]']          \n",
      " )                                                                                                \n",
      "                                                                                                  \n",
      " max_pooling2d_6 (MaxPooling2D)  (None, 1, 1, 256)   0           ['activation_6[0][0]']           \n",
      "                                                                                                  \n",
      " spatial_dropout2d_6 (SpatialDr  (None, 2, 2, 256)   0           ['max_pooling2d_12[0][0]']       \n",
      " opout2D)                                                                                         \n",
      "                                                                                                  \n",
      " spatial_dropout2d_3 (SpatialDr  (None, 1, 1, 256)   0           ['max_pooling2d_6[0][0]']        \n",
      " opout2D)                                                                                         \n",
      "                                                                                                  \n",
      " batch_normalization_15 (BatchN  (None, 2, 2, 256)   1024        ['spatial_dropout2d_6[0][0]']    \n",
      " ormalization)                                                                                    \n",
      "                                                                                                  \n",
      " batch_normalization_6 (BatchNo  (None, 1, 1, 256)   1024        ['spatial_dropout2d_3[0][0]']    \n",
      " rmalization)                                                                                     \n",
      "                                                                                                  \n",
      " separable_conv2d_13 (Separable  (None, 2, 2, 256)   68096       ['batch_normalization_15[0][0]'] \n",
      " Conv2D)                                                                                          \n",
      "                                                                                                  \n",
      " flatten (Flatten)              (None, 256)          0           ['batch_normalization_6[0][0]']  \n",
      "                                                                                                  \n",
      " activation_16 (Activation)     (None, 2, 2, 256)    0           ['separable_conv2d_13[0][0]']    \n",
      "                                                                                                  \n",
      " dense (Dense)                  (None, 128)          32896       ['flatten[0][0]']                \n",
      "                                                                                                  \n",
      " max_pooling2d_13 (MaxPooling2D  (None, 1, 1, 256)   0           ['activation_16[0][0]']          \n",
      " )                                                                                                \n",
      "                                                                                                  \n",
      " activation_7 (Activation)      (None, 128)          0           ['dense[0][0]']                  \n",
      "                                                                                                  \n",
      " spatial_dropout2d_7 (SpatialDr  (None, 1, 1, 256)   0           ['max_pooling2d_13[0][0]']       \n",
      " opout2D)                                                                                         \n",
      "                                                                                                  \n",
      " dropout (Dropout)              (None, 128)          0           ['activation_7[0][0]']           \n",
      "                                                                                                  \n",
      " batch_normalization_16 (BatchN  (None, 1, 1, 256)   1024        ['spatial_dropout2d_7[0][0]']    \n",
      " ormalization)                                                                                    \n",
      "                                                                                                  \n",
      " batch_normalization_7 (BatchNo  (None, 128)         512         ['dropout[0][0]']                \n",
      " rmalization)                                                                                     \n",
      "                                                                                                  \n",
      " flatten_1 (Flatten)            (None, 256)          0           ['batch_normalization_16[0][0]'] \n",
      "                                                                                                  \n",
      " dense_1 (Dense)                (None, 64)           8256        ['batch_normalization_7[0][0]']  \n",
      "                                                                                                  \n",
      " dense_4 (Dense)                (None, 64)           16448       ['flatten_1[0][0]']              \n",
      "                                                                                                  \n",
      " activation_8 (Activation)      (None, 64)           0           ['dense_1[0][0]']                \n",
      "                                                                                                  \n",
      " activation_17 (Activation)     (None, 64)           0           ['dense_4[0][0]']                \n",
      "                                                                                                  \n",
      " dropout_1 (Dropout)            (None, 64)           0           ['activation_8[0][0]']           \n",
      "                                                                                                  \n",
      " dropout_3 (Dropout)            (None, 64)           0           ['activation_17[0][0]']          \n",
      "                                                                                                  \n",
      " batch_normalization_8 (BatchNo  (None, 64)          256         ['dropout_1[0][0]']              \n",
      " rmalization)                                                                                     \n",
      "                                                                                                  \n",
      " batch_normalization_17 (BatchN  (None, 64)          256         ['dropout_3[0][0]']              \n",
      " ormalization)                                                                                    \n",
      "                                                                                                  \n",
      " dense_2 (Dense)                (None, 32)           2080        ['batch_normalization_8[0][0]']  \n",
      "                                                                                                  \n",
      " dense_5 (Dense)                (None, 32)           2080        ['batch_normalization_17[0][0]'] \n",
      "                                                                                                  \n",
      " activation_9 (Activation)      (None, 32)           0           ['dense_2[0][0]']                \n",
      "                                                                                                  \n",
      " activation_18 (Activation)     (None, 32)           0           ['dense_5[0][0]']                \n",
      "                                                                                                  \n",
      " dropout_2 (Dropout)            (None, 32)           0           ['activation_9[0][0]']           \n",
      "                                                                                                  \n",
      " dropout_4 (Dropout)            (None, 32)           0           ['activation_18[0][0]']          \n",
      "                                                                                                  \n",
      " batch_normalization_9 (BatchNo  (None, 32)          128         ['dropout_2[0][0]']              \n",
      " rmalization)                                                                                     \n",
      "                                                                                                  \n",
      " batch_normalization_18 (BatchN  (None, 32)          128         ['dropout_4[0][0]']              \n",
      " ormalization)                                                                                    \n",
      "                                                                                                  \n",
      " dense_3 (Dense)                (None, 5)            165         ['batch_normalization_9[0][0]']  \n",
      "                                                                                                  \n",
      " dense_6 (Dense)                (None, 2)            66          ['batch_normalization_18[0][0]'] \n",
      "                                                                                                  \n",
      " age_output (Activation)        (None, 5)            0           ['dense_3[0][0]']                \n",
      "                                                                                                  \n",
      " gender_output (Activation)     (None, 2)            0           ['dense_6[0][0]']                \n",
      "                                                                                                  \n",
      "==================================================================================================\n",
      "Total params: 471,197\n",
      "Trainable params: 466,077\n",
      "Non-trainable params: 5,120\n",
      "__________________________________________________________________________________________________\n"
     ]
    }
   ],
   "source": [
    "model.summary()"
   ]
  },
  {
   "cell_type": "code",
   "execution_count": null,
   "metadata": {
    "colab": {
     "base_uri": "https://localhost:8080/"
    },
    "id": "OIQZyf8eE7Mi",
    "outputId": "a31218df-8877-4a56-ad61-d2df8ca9b268"
   },
   "outputs": [
    {
     "name": "stderr",
     "output_type": "stream",
     "text": [
      "/usr/local/lib/python3.7/dist-packages/keras/optimizer_v2/adam.py:105: UserWarning: The `lr` argument is deprecated, use `learning_rate` instead.\n",
      "  super(Adam, self).__init__(name, **kwargs)\n"
     ]
    }
   ],
   "source": [
    "# A callback is a set of functions to be applied at given stages of the training procedure.\n",
    "\n",
    "import math\n",
    "\n",
    "from tensorflow.keras.optimizers import Adam\n",
    "from keras.callbacks import ModelCheckpoint\n",
    "from keras.callbacks import LearningRateScheduler\n",
    "\n",
    "#  When training a neural network, the learning rate is often the most important \n",
    "# hyperparameter to tune. When training deep neural networks, it is often useful \n",
    "# to reduce learning rate as the training progresses.\n",
    "\n",
    "# LRS in Keras reduces the learning rate by a certain factor after certain no of epochs\n",
    "\n",
    "def step_decay(epoch):\n",
    "\tinitial_lrate = 0.008\n",
    "\tdrop = 0.5\n",
    "\tepochs_drop = 5.0\n",
    "\tlrate = initial_lrate * math.pow(drop, math.floor((1+epoch)/epochs_drop))\n",
    "\treturn lrate      \n",
    "\n",
    "opt = Adam(lr=0.0)                                     # 0.0 here signifies this is not to be used\n",
    "lrate = LearningRateScheduler(step_decay)\n",
    "\n",
    "model.compile(optimizer=opt, \n",
    "              loss={\n",
    "                  'age_output': 'categorical_crossentropy', \n",
    "                  'gender_output': 'categorical_crossentropy'},\n",
    "              metrics={\n",
    "                  'age_output': 'accuracy', \n",
    "                  'gender_output': 'accuracy'})\n",
    "\n",
    "callbacks_list = [lrate]\n",
    "\n",
    "# It is this callback that allows a function to invoke during program execution."
   ]
  },
  {
   "cell_type": "markdown",
   "metadata": {
    "id": "yngXGr-2krQA"
   },
   "source": [
    " Keras does not touch class imbalance issues on its own.  If you aren't going to handle imbalance from the data directly, you should introduce an additional parameter in your loss function that understands the class distribution. In Keras, the param is called `class_weight`\n",
    "\n",
    "Class weights, ensure that the unevenness in data distribution is sorted out.\n",
    "Basically, **classes with less numbers are given more weight**, so that model doesn't get biased towards the more prevalent classes."
   ]
  },
  {
   "cell_type": "code",
   "execution_count": null,
   "metadata": {
    "id": "TYUF1n3nyfj7"
   },
   "outputs": [],
   "source": [
    "from sklearn.utils import class_weight\n",
    "class_weight = class_weight.compute_class_weight('balanced' ,classes=np.array([0,1,2,3,4]) ,y=np.array(df['age']))\n",
    "\n",
    "\n",
    "class_weight1 = {'age_output': class_weight}"
   ]
  },
  {
   "cell_type": "markdown",
   "metadata": {
    "id": "VYQNqWpwdOPG"
   },
   "source": [
    "### Some key points to remember\n",
    "\n",
    "\n",
    "*   **ModelCheckpoint** - ModelCheckpoint callback is used in conjunction with training using model.fit() to save a model or weights (in a checkpoint file) at some interval, so the model or weights can be loaded later to continue the training from the state saved. This is very essential as DL models can take upto days to train. By default - it's NULL.\n",
    "\n",
    "    By keeping the filename constant throughout training, we ensure that only the best model weights remain in the file uptill the point we have trained.   \n",
    "To load weights - `model.load_weights(filepath)`\n",
    "\n",
    "---\n",
    "\n",
    "\n",
    "\n",
    "*  **Fit function** -  In the latest version of TF - 2.2.0v (released May 2020), the *fit* function has replaced the *fit_generator* function present before.\n",
    "\n",
    "---\n",
    "\n",
    "\n",
    "*  **Validation while training** - All the VALIDATION things, in the *fit* function are related to data on which to evaluate the loss and any model metrics at the end of each epoch. The model will not be trained on this data \n",
    "\n",
    "---\n",
    "\n",
    "*   **Loss functions** ( `binary_crossentropy` vs `categorical_crossentropy`) -\n",
    "\n",
    "  -- For `binary_crossentropy`, sigmoid activation, scalar target\n",
    "\n",
    "  -- For `categorical_crossentropy`, softmax activation, one-hot encoded target\n",
    "\n",
    "---\n",
    "\n",
    "*  **LearningRateSchedular Callback** - The LearningRateScheduler callback allows us to define a function to call that takes the epoch number as an argument and returns the learning rate to use in optimizer. When used, the learning rate specified by optimizer is ignored.\n",
    "\n",
    "\n",
    "\n",
    "\n",
    "\n",
    "\n",
    "\n"
   ]
  },
  {
   "cell_type": "code",
   "execution_count": null,
   "metadata": {
    "colab": {
     "base_uri": "https://localhost:8080/"
    },
    "id": "xQLyl11vYw1r",
    "outputId": "6940b7f5-3a2a-46c3-9b28-7e0688b08d3f"
   },
   "outputs": [
    {
     "name": "stdout",
     "output_type": "stream",
     "text": [
      "Epoch 1/22\n",
      "215/215 [==============================] - 140s 586ms/step - loss: 2.7101 - age_output_loss: 1.2235 - gender_output_loss: 0.6756 - age_output_accuracy: 0.4920 - gender_output_accuracy: 0.6193 - val_loss: 2.0381 - val_age_output_loss: 1.1563 - val_gender_output_loss: 0.6908 - val_age_output_accuracy: 0.5088 - val_gender_output_accuracy: 0.5259 - lr: 0.0080\n",
      "Epoch 2/22\n",
      "215/215 [==============================] - 45s 207ms/step - loss: 1.7293 - age_output_loss: 1.0002 - gender_output_loss: 0.5304 - age_output_accuracy: 0.5676 - gender_output_accuracy: 0.7392 - val_loss: 9.9464 - val_age_output_loss: 9.2333 - val_gender_output_loss: 0.5255 - val_age_output_accuracy: 0.0330 - val_gender_output_accuracy: 0.7925 - lr: 0.0080\n",
      "Epoch 3/22\n",
      "215/215 [==============================] - 45s 208ms/step - loss: 1.4998 - age_output_loss: 0.9030 - gender_output_loss: 0.4116 - age_output_accuracy: 0.6185 - gender_output_accuracy: 0.8084 - val_loss: 3.8666 - val_age_output_loss: 3.2777 - val_gender_output_loss: 0.4165 - val_age_output_accuracy: 0.1604 - val_gender_output_accuracy: 0.8408 - lr: 0.0080\n",
      "Epoch 4/22\n",
      "215/215 [==============================] - 45s 207ms/step - loss: 1.3976 - age_output_loss: 0.8591 - gender_output_loss: 0.3638 - age_output_accuracy: 0.6390 - gender_output_accuracy: 0.8368 - val_loss: 1.5248 - val_age_output_loss: 0.9363 - val_gender_output_loss: 0.4056 - val_age_output_accuracy: 0.6344 - val_gender_output_accuracy: 0.8296 - lr: 0.0080\n",
      "Epoch 5/22\n",
      "215/215 [==============================] - 45s 208ms/step - loss: 1.2192 - age_output_loss: 0.7902 - gender_output_loss: 0.3210 - age_output_accuracy: 0.6762 - gender_output_accuracy: 0.8594 - val_loss: 1.1293 - val_age_output_loss: 0.7438 - val_gender_output_loss: 0.2768 - val_age_output_accuracy: 0.7028 - val_gender_output_accuracy: 0.8815 - lr: 0.0040\n",
      "Epoch 6/22\n",
      "215/215 [==============================] - 44s 207ms/step - loss: 1.1648 - age_output_loss: 0.7585 - gender_output_loss: 0.2926 - age_output_accuracy: 0.6840 - gender_output_accuracy: 0.8773 - val_loss: 1.1741 - val_age_output_loss: 0.7449 - val_gender_output_loss: 0.3128 - val_age_output_accuracy: 0.6887 - val_gender_output_accuracy: 0.8667 - lr: 0.0040\n",
      "Epoch 7/22\n",
      "215/215 [==============================] - 45s 207ms/step - loss: 1.1302 - age_output_loss: 0.7392 - gender_output_loss: 0.2746 - age_output_accuracy: 0.6911 - gender_output_accuracy: 0.8876 - val_loss: 1.3395 - val_age_output_loss: 0.8944 - val_gender_output_loss: 0.3443 - val_age_output_accuracy: 0.6008 - val_gender_output_accuracy: 0.8650 - lr: 0.0040\n",
      "Epoch 8/22\n",
      "215/215 [==============================] - 44s 206ms/step - loss: 1.1015 - age_output_loss: 0.7131 - gender_output_loss: 0.2668 - age_output_accuracy: 0.7025 - gender_output_accuracy: 0.8882 - val_loss: 1.1282 - val_age_output_loss: 0.7352 - val_gender_output_loss: 0.2947 - val_age_output_accuracy: 0.6680 - val_gender_output_accuracy: 0.8815 - lr: 0.0040\n",
      "Epoch 9/22\n",
      "215/215 [==============================] - 44s 206ms/step - loss: 1.0641 - age_output_loss: 0.6962 - gender_output_loss: 0.2477 - age_output_accuracy: 0.7064 - gender_output_accuracy: 0.8978 - val_loss: 1.1461 - val_age_output_loss: 0.7000 - val_gender_output_loss: 0.3300 - val_age_output_accuracy: 0.7034 - val_gender_output_accuracy: 0.8803 - lr: 0.0040\n",
      "Epoch 10/22\n",
      "215/215 [==============================] - 44s 207ms/step - loss: 0.9223 - age_output_loss: 0.6293 - gender_output_loss: 0.2147 - age_output_accuracy: 0.7346 - gender_output_accuracy: 0.9089 - val_loss: 1.1792 - val_age_output_loss: 0.7722 - val_gender_output_loss: 0.3319 - val_age_output_accuracy: 0.6822 - val_gender_output_accuracy: 0.8815 - lr: 0.0020\n",
      "Epoch 11/22\n",
      "215/215 [==============================] - 44s 206ms/step - loss: 0.8731 - age_output_loss: 0.6024 - gender_output_loss: 0.1935 - age_output_accuracy: 0.7422 - gender_output_accuracy: 0.9235 - val_loss: 1.0660 - val_age_output_loss: 0.6686 - val_gender_output_loss: 0.3249 - val_age_output_accuracy: 0.7276 - val_gender_output_accuracy: 0.8715 - lr: 0.0020\n",
      "Epoch 12/22\n",
      "215/215 [==============================] - 44s 206ms/step - loss: 0.8352 - age_output_loss: 0.5847 - gender_output_loss: 0.1767 - age_output_accuracy: 0.7493 - gender_output_accuracy: 0.9365 - val_loss: 1.1410 - val_age_output_loss: 0.6503 - val_gender_output_loss: 0.4299 - val_age_output_accuracy: 0.7199 - val_gender_output_accuracy: 0.8626 - lr: 0.0020\n",
      "Epoch 13/22\n",
      "215/215 [==============================] - 44s 207ms/step - loss: 0.8007 - age_output_loss: 0.5495 - gender_output_loss: 0.1717 - age_output_accuracy: 0.7677 - gender_output_accuracy: 0.9302 - val_loss: 1.0400 - val_age_output_loss: 0.6635 - val_gender_output_loss: 0.3117 - val_age_output_accuracy: 0.7217 - val_gender_output_accuracy: 0.8968 - lr: 0.0020\n",
      "Epoch 14/22\n",
      "215/215 [==============================] - 45s 207ms/step - loss: 0.7661 - age_output_loss: 0.5309 - gender_output_loss: 0.1610 - age_output_accuracy: 0.7731 - gender_output_accuracy: 0.9363 - val_loss: 1.1485 - val_age_output_loss: 0.6874 - val_gender_output_loss: 0.3943 - val_age_output_accuracy: 0.7129 - val_gender_output_accuracy: 0.8774 - lr: 0.0020\n",
      "Epoch 15/22\n",
      "215/215 [==============================] - 44s 207ms/step - loss: 0.6531 - age_output_loss: 0.4750 - gender_output_loss: 0.1263 - age_output_accuracy: 0.8074 - gender_output_accuracy: 0.9506 - val_loss: 1.0426 - val_age_output_loss: 0.6484 - val_gender_output_loss: 0.3486 - val_age_output_accuracy: 0.7241 - val_gender_output_accuracy: 0.8921 - lr: 0.0010\n",
      "Epoch 16/22\n",
      "215/215 [==============================] - 44s 207ms/step - loss: 0.5781 - age_output_loss: 0.4283 - gender_output_loss: 0.1056 - age_output_accuracy: 0.8308 - gender_output_accuracy: 0.9578 - val_loss: 1.1075 - val_age_output_loss: 0.6972 - val_gender_output_loss: 0.3656 - val_age_output_accuracy: 0.7347 - val_gender_output_accuracy: 0.8968 - lr: 0.0010\n",
      "Epoch 17/22\n",
      "215/215 [==============================] - 44s 206ms/step - loss: 0.5563 - age_output_loss: 0.4039 - gender_output_loss: 0.1023 - age_output_accuracy: 0.8392 - gender_output_accuracy: 0.9594 - val_loss: 1.1941 - val_age_output_loss: 0.7690 - val_gender_output_loss: 0.3772 - val_age_output_accuracy: 0.7123 - val_gender_output_accuracy: 0.8903 - lr: 0.0010\n",
      "Epoch 18/22\n",
      "215/215 [==============================] - 44s 206ms/step - loss: 0.5330 - age_output_loss: 0.3923 - gender_output_loss: 0.0954 - age_output_accuracy: 0.8464 - gender_output_accuracy: 0.9626 - val_loss: 1.2286 - val_age_output_loss: 0.7460 - val_gender_output_loss: 0.4329 - val_age_output_accuracy: 0.7300 - val_gender_output_accuracy: 0.8762 - lr: 0.0010\n",
      "Epoch 19/22\n",
      "215/215 [==============================] - 44s 206ms/step - loss: 0.4939 - age_output_loss: 0.3598 - gender_output_loss: 0.0863 - age_output_accuracy: 0.8578 - gender_output_accuracy: 0.9669 - val_loss: 1.2903 - val_age_output_loss: 0.8226 - val_gender_output_loss: 0.4217 - val_age_output_accuracy: 0.6934 - val_gender_output_accuracy: 0.8915 - lr: 0.0010\n",
      "Epoch 20/22\n",
      "215/215 [==============================] - 45s 207ms/step - loss: 0.4301 - age_output_loss: 0.3217 - gender_output_loss: 0.0738 - age_output_accuracy: 0.8773 - gender_output_accuracy: 0.9730 - val_loss: 1.2334 - val_age_output_loss: 0.7622 - val_gender_output_loss: 0.4394 - val_age_output_accuracy: 0.7447 - val_gender_output_accuracy: 0.8933 - lr: 5.0000e-04\n",
      "Epoch 21/22\n",
      "215/215 [==============================] - 44s 207ms/step - loss: 0.3988 - age_output_loss: 0.3035 - gender_output_loss: 0.0635 - age_output_accuracy: 0.8862 - gender_output_accuracy: 0.9783 - val_loss: 1.3102 - val_age_output_loss: 0.8355 - val_gender_output_loss: 0.4432 - val_age_output_accuracy: 0.7193 - val_gender_output_accuracy: 0.8927 - lr: 5.0000e-04\n",
      "Epoch 22/22\n",
      "215/215 [==============================] - 44s 206ms/step - loss: 0.3514 - age_output_loss: 0.2651 - gender_output_loss: 0.0565 - age_output_accuracy: 0.9057 - gender_output_accuracy: 0.9804 - val_loss: 1.2913 - val_age_output_loss: 0.8202 - val_gender_output_loss: 0.4407 - val_age_output_accuracy: 0.7335 - val_gender_output_accuracy: 0.8945 - lr: 5.0000e-04\n"
     ]
    }
   ],
   "source": [
    "train_gen = generate_images(train_idx, is_training=True, batch_size=32)\n",
    "\n",
    "# Since, train_idx is too large to fit inside RAM at once, we generate batches of size 32/64 from it (called train_gen))\n",
    "\n",
    "valid_gen = generate_images(val_idx, is_training=True, batch_size=32)\n",
    "\n",
    "\n",
    "history = model.fit(train_gen, steps_per_epoch = len(train_idx)//32, epochs=22  , callbacks=callbacks_list,\n",
    "                     validation_data=valid_gen, validation_steps=len(val_idx)//32)\n",
    "\n"
   ]
  },
  {
   "cell_type": "markdown",
   "metadata": {
    "id": "qq3MtSrR7DQH"
   },
   "source": [
    "\n",
    "\n",
    "---\n",
    "\n",
    "\n",
    "Clearly, the performance of the model is saturating. I found the reason to be the diminutive learning rate after 45 epochs which becomes 0.0005, that is too low for the model to learn anything. *When the learning rate is too small, training is not only slower, but may become permanently stuck with a high training error.* This is precisely what seems to have happened above.\n",
    "\n",
    "Hence, we train the model, by **re-establishing the learning rate** to a lower value than initialized before (as model would be now at the trough , looking for the minimum using Adam optimizer). I decided it to be 0.002 and again keep a drop every 12 epochs. Initializing the learning rate higher than 0.002, results in very volatile and fluctuating results, as the model keeps on oscillating about that minimum. "
   ]
  },
  {
   "cell_type": "code",
   "execution_count": null,
   "metadata": {
    "colab": {
     "base_uri": "https://localhost:8080/"
    },
    "id": "soCfKO0kBtHZ",
    "outputId": "5c2c95e5-fa77-4b1a-f277-b79ebe6bb132"
   },
   "outputs": [
    {
     "name": "stdout",
     "output_type": "stream",
     "text": [
      "Epoch 1/22\n"
     ]
    },
    {
     "name": "stderr",
     "output_type": "stream",
     "text": [
      "/usr/local/lib/python3.7/dist-packages/keras/optimizer_v2/adam.py:105: UserWarning: The `lr` argument is deprecated, use `learning_rate` instead.\n",
      "  super(Adam, self).__init__(name, **kwargs)\n"
     ]
    },
    {
     "name": "stdout",
     "output_type": "stream",
     "text": [
      "215/215 [==============================] - 44s 206ms/step - loss: 0.5871 - age_output_loss: 0.3917 - gender_output_loss: 0.1157 - age_output_accuracy: 0.8506 - gender_output_accuracy: 0.9564 - val_loss: 1.3541 - val_age_output_loss: 0.8406 - val_gender_output_loss: 0.4518 - val_age_output_accuracy: 0.7152 - val_gender_output_accuracy: 0.8874 - lr: 0.0020\n",
      "Epoch 2/22\n",
      "215/215 [==============================] - 44s 207ms/step - loss: 0.5864 - age_output_loss: 0.4023 - gender_output_loss: 0.1149 - age_output_accuracy: 0.8417 - gender_output_accuracy: 0.9564 - val_loss: 1.2522 - val_age_output_loss: 0.7913 - val_gender_output_loss: 0.3979 - val_age_output_accuracy: 0.6963 - val_gender_output_accuracy: 0.8838 - lr: 0.0020\n",
      "Epoch 3/22\n",
      "215/215 [==============================] - 44s 207ms/step - loss: 0.5369 - age_output_loss: 0.3619 - gender_output_loss: 0.1117 - age_output_accuracy: 0.8590 - gender_output_accuracy: 0.9567 - val_loss: 1.2413 - val_age_output_loss: 0.7637 - val_gender_output_loss: 0.4150 - val_age_output_accuracy: 0.7217 - val_gender_output_accuracy: 0.8856 - lr: 0.0020\n",
      "Epoch 4/22\n",
      "215/215 [==============================] - 44s 207ms/step - loss: 0.5211 - age_output_loss: 0.3598 - gender_output_loss: 0.0908 - age_output_accuracy: 0.8637 - gender_output_accuracy: 0.9657 - val_loss: 1.4658 - val_age_output_loss: 0.8863 - val_gender_output_loss: 0.5030 - val_age_output_accuracy: 0.6934 - val_gender_output_accuracy: 0.8756 - lr: 0.0020\n",
      "Epoch 5/22\n",
      "215/215 [==============================] - 44s 207ms/step - loss: 0.5355 - age_output_loss: 0.3561 - gender_output_loss: 0.1069 - age_output_accuracy: 0.8679 - gender_output_accuracy: 0.9590 - val_loss: 1.4859 - val_age_output_loss: 0.9642 - val_gender_output_loss: 0.4474 - val_age_output_accuracy: 0.6633 - val_gender_output_accuracy: 0.8779 - lr: 0.0020\n",
      "Epoch 6/22\n",
      "215/215 [==============================] - 44s 207ms/step - loss: 0.4995 - age_output_loss: 0.3346 - gender_output_loss: 0.0961 - age_output_accuracy: 0.8715 - gender_output_accuracy: 0.9658 - val_loss: 1.2975 - val_age_output_loss: 0.8108 - val_gender_output_loss: 0.4207 - val_age_output_accuracy: 0.7353 - val_gender_output_accuracy: 0.8844 - lr: 0.0020\n",
      "Epoch 7/22\n",
      "215/215 [==============================] - 44s 207ms/step - loss: 0.3868 - age_output_loss: 0.2743 - gender_output_loss: 0.0674 - age_output_accuracy: 0.8987 - gender_output_accuracy: 0.9762 - val_loss: 1.3449 - val_age_output_loss: 0.8605 - val_gender_output_loss: 0.4423 - val_age_output_accuracy: 0.7123 - val_gender_output_accuracy: 0.8886 - lr: 0.0010\n",
      "Epoch 8/22\n",
      "215/215 [==============================] - 44s 206ms/step - loss: 0.3291 - age_output_loss: 0.2360 - gender_output_loss: 0.0474 - age_output_accuracy: 0.9174 - gender_output_accuracy: 0.9855 - val_loss: 1.5160 - val_age_output_loss: 1.0271 - val_gender_output_loss: 0.4445 - val_age_output_accuracy: 0.6869 - val_gender_output_accuracy: 0.8886 - lr: 0.0010\n",
      "Epoch 9/22\n",
      "215/215 [==============================] - 44s 207ms/step - loss: 0.3157 - age_output_loss: 0.2261 - gender_output_loss: 0.0451 - age_output_accuracy: 0.9219 - gender_output_accuracy: 0.9862 - val_loss: 1.4632 - val_age_output_loss: 0.9156 - val_gender_output_loss: 0.5090 - val_age_output_accuracy: 0.7229 - val_gender_output_accuracy: 0.8909 - lr: 0.0010\n",
      "Epoch 10/22\n",
      "215/215 [==============================] - 45s 207ms/step - loss: 0.2903 - age_output_loss: 0.2084 - gender_output_loss: 0.0404 - age_output_accuracy: 0.9299 - gender_output_accuracy: 0.9885 - val_loss: 1.5642 - val_age_output_loss: 1.0396 - val_gender_output_loss: 0.4822 - val_age_output_accuracy: 0.7034 - val_gender_output_accuracy: 0.9004 - lr: 0.0010\n",
      "Epoch 11/22\n",
      "215/215 [==============================] - 44s 206ms/step - loss: 0.2798 - age_output_loss: 0.1920 - gender_output_loss: 0.0445 - age_output_accuracy: 0.9326 - gender_output_accuracy: 0.9863 - val_loss: 1.6661 - val_age_output_loss: 1.0979 - val_gender_output_loss: 0.5284 - val_age_output_accuracy: 0.7105 - val_gender_output_accuracy: 0.8850 - lr: 0.0010\n",
      "Epoch 12/22\n",
      "215/215 [==============================] - 44s 206ms/step - loss: 0.2589 - age_output_loss: 0.1740 - gender_output_loss: 0.0440 - age_output_accuracy: 0.9438 - gender_output_accuracy: 0.9853 - val_loss: 1.6463 - val_age_output_loss: 1.1334 - val_gender_output_loss: 0.4671 - val_age_output_accuracy: 0.6987 - val_gender_output_accuracy: 0.8968 - lr: 0.0010\n",
      "Epoch 13/22\n",
      "215/215 [==============================] - 44s 206ms/step - loss: 0.2522 - age_output_loss: 0.1737 - gender_output_loss: 0.0382 - age_output_accuracy: 0.9407 - gender_output_accuracy: 0.9871 - val_loss: 1.5011 - val_age_output_loss: 0.9749 - val_gender_output_loss: 0.4831 - val_age_output_accuracy: 0.7223 - val_gender_output_accuracy: 0.8974 - lr: 0.0010\n",
      "Epoch 14/22\n",
      "215/215 [==============================] - 44s 207ms/step - loss: 0.2104 - age_output_loss: 0.1480 - gender_output_loss: 0.0312 - age_output_accuracy: 0.9516 - gender_output_accuracy: 0.9900 - val_loss: 1.5008 - val_age_output_loss: 0.9827 - val_gender_output_loss: 0.4936 - val_age_output_accuracy: 0.7335 - val_gender_output_accuracy: 0.8980 - lr: 5.0000e-04\n",
      "Epoch 15/22\n",
      "215/215 [==============================] - 44s 207ms/step - loss: 0.1728 - age_output_loss: 0.1252 - gender_output_loss: 0.0237 - age_output_accuracy: 0.9593 - gender_output_accuracy: 0.9933 - val_loss: 1.5749 - val_age_output_loss: 1.0263 - val_gender_output_loss: 0.5237 - val_age_output_accuracy: 0.7264 - val_gender_output_accuracy: 0.8950 - lr: 5.0000e-04\n",
      "Epoch 16/22\n",
      "215/215 [==============================] - 44s 206ms/step - loss: 0.1755 - age_output_loss: 0.1244 - gender_output_loss: 0.0265 - age_output_accuracy: 0.9587 - gender_output_accuracy: 0.9929 - val_loss: 1.5613 - val_age_output_loss: 1.0049 - val_gender_output_loss: 0.5324 - val_age_output_accuracy: 0.7229 - val_gender_output_accuracy: 0.8880 - lr: 5.0000e-04\n",
      "Epoch 17/22\n",
      "215/215 [==============================] - 45s 207ms/step - loss: 0.1639 - age_output_loss: 0.1165 - gender_output_loss: 0.0231 - age_output_accuracy: 0.9616 - gender_output_accuracy: 0.9926 - val_loss: 1.6450 - val_age_output_loss: 1.0848 - val_gender_output_loss: 0.5351 - val_age_output_accuracy: 0.7282 - val_gender_output_accuracy: 0.8927 - lr: 5.0000e-04\n",
      "Epoch 18/22\n",
      "215/215 [==============================] - 44s 206ms/step - loss: 0.1612 - age_output_loss: 0.1129 - gender_output_loss: 0.0210 - age_output_accuracy: 0.9644 - gender_output_accuracy: 0.9937 - val_loss: 1.6083 - val_age_output_loss: 1.0113 - val_gender_output_loss: 0.5671 - val_age_output_accuracy: 0.7347 - val_gender_output_accuracy: 0.8939 - lr: 5.0000e-04\n",
      "Epoch 19/22\n",
      "215/215 [==============================] - 44s 206ms/step - loss: 0.1390 - age_output_loss: 0.0953 - gender_output_loss: 0.0190 - age_output_accuracy: 0.9715 - gender_output_accuracy: 0.9937 - val_loss: 1.6930 - val_age_output_loss: 1.1250 - val_gender_output_loss: 0.5456 - val_age_output_accuracy: 0.7376 - val_gender_output_accuracy: 0.8992 - lr: 5.0000e-04\n",
      "Epoch 20/22\n",
      "215/215 [==============================] - 44s 207ms/step - loss: 0.1342 - age_output_loss: 0.0960 - gender_output_loss: 0.0148 - age_output_accuracy: 0.9709 - gender_output_accuracy: 0.9962 - val_loss: 1.6606 - val_age_output_loss: 1.0778 - val_gender_output_loss: 0.5603 - val_age_output_accuracy: 0.7199 - val_gender_output_accuracy: 0.8974 - lr: 5.0000e-04\n",
      "Epoch 21/22\n",
      "215/215 [==============================] - 44s 206ms/step - loss: 0.1323 - age_output_loss: 0.0967 - gender_output_loss: 0.0159 - age_output_accuracy: 0.9722 - gender_output_accuracy: 0.9953 - val_loss: 1.6785 - val_age_output_loss: 1.0974 - val_gender_output_loss: 0.5634 - val_age_output_accuracy: 0.7241 - val_gender_output_accuracy: 0.8968 - lr: 2.5000e-04\n",
      "Epoch 22/22\n",
      "215/215 [==============================] - 44s 206ms/step - loss: 0.1300 - age_output_loss: 0.0971 - gender_output_loss: 0.0157 - age_output_accuracy: 0.9717 - gender_output_accuracy: 0.9955 - val_loss: 1.7056 - val_age_output_loss: 1.1260 - val_gender_output_loss: 0.5627 - val_age_output_accuracy: 0.7323 - val_gender_output_accuracy: 0.8980 - lr: 2.5000e-04\n"
     ]
    }
   ],
   "source": [
    "import math\n",
    "from tensorflow.keras.optimizers import Adam\n",
    "from keras.callbacks import ModelCheckpoint\n",
    "from keras.callbacks import LearningRateScheduler\n",
    "\n",
    "def step_decay(epoch):\n",
    "\tinitial_lrate = 0.002\n",
    "\tdrop = 0.5\n",
    "\tepochs_drop = 7.0\n",
    "\tlrate = initial_lrate * math.pow(drop, math.floor((1+epoch)/epochs_drop))\n",
    "\treturn lrate      \n",
    "\n",
    "opt = Adam(lr=0.0)\n",
    "lrate = LearningRateScheduler(step_decay)\n",
    "\n",
    "train_gen = generate_images(train_idx, is_training=True, batch_size=32)\n",
    "valid_gen = generate_images(val_idx, is_training=True, batch_size=32)\n",
    "callbacks_list = [lrate]\n",
    "\n",
    "history = model.fit(train_gen, steps_per_epoch = len(train_idx)//32, epochs=22  , callbacks=callbacks_list,\n",
    "                     validation_data=valid_gen, validation_steps=len(val_idx)//32)\n",
    "\n"
   ]
  },
  {
   "cell_type": "markdown",
   "metadata": {
    "id": "udSH6GhxH3RR"
   },
   "source": [
    "We see that the model has started overfitting. Validation loss for both age and gender is increasing, which a clear sign of overfitting. Hence, stop the training, else the model might lose its generalization ability.\n",
    "\n",
    "I tried training further, and the accuracy was not able to increase. Hence, I conclude that the model has achieved saturation."
   ]
  },
  {
   "cell_type": "code",
   "execution_count": null,
   "metadata": {
    "colab": {
     "base_uri": "https://localhost:8080/"
    },
    "id": "k3DyQlH4YJqO",
    "outputId": "684abdfc-bc85-4820-9193-8bb45a31141c"
   },
   "outputs": [
    {
     "name": "stdout",
     "output_type": "stream",
     "text": [
      "INFO:tensorflow:Assets written to: /content/drive/My Drive/Colab Notebooks/a_g_best/assets\n"
     ]
    }
   ],
   "source": [
    "model.save('/content/drive/My Drive/Colab Notebooks/a_g_best')         # Saving the above run model. It has performed best till date.\n",
    "\n",
    "model.save(f'/content/drive/My Drive/Colab Notebooks/a_g_best.h5')  # Converting to .h5 file for deployment\n"
   ]
  },
  {
   "cell_type": "code",
   "execution_count": null,
   "metadata": {
    "id": "EOTG4hlEVtd5"
   },
   "outputs": [],
   "source": [
    "from keras.models import load_model\n",
    "new_model = load_model('/content/drive/My Drive/Colab Notebooks/a_g_best')"
   ]
  },
  {
   "cell_type": "markdown",
   "metadata": {
    "id": "aVU7moSwZhZm"
   },
   "source": [
    "### The short answer to saving and loading - \n",
    "\n",
    "#### **Saving a Keras Model** -\n",
    "`model = ...  # Get model (Sequential, Functional Model, or Model subclass)`\n",
    "\n",
    "`model.save('path/to/location')`\n",
    "\n",
    "This `save` function saves -\n",
    "\n",
    "\n",
    "1.   The architecture of the model, allowing to re-create the model.\n",
    "2.   The weights of the model.\n",
    "3.   The training configuration (loss, optimizer).\n",
    "4.   The state of the optimizer, allowing to resume training exactly where you left off.\n",
    "\n",
    "Calling `save('my_model')` creates a SavedModel folder `my_model`, containing the following - `assets` , `saved_model.pb` &  `variables`. The model architecture, and training configuration (including the optimizer, losses, and metrics) are stored in `saved_model.pb`. The weights are saved in the `variables/` directory.\n",
    "\n",
    "#### **Loading the model back** - \n",
    "`model = keras.models.load_model('path/to/location')`\n",
    "\n",
    "\n"
   ]
  },
  {
   "cell_type": "code",
   "execution_count": null,
   "metadata": {
    "colab": {
     "base_uri": "https://localhost:8080/",
     "height": 307
    },
    "id": "A9Nuu0480Mpw",
    "outputId": "eed467ad-9d77-4d5d-967e-c97fe461b60d"
   },
   "outputs": [
    {
     "data": {
      "image/png": "[encoded data removed]",
      "text/plain": [
       "<Figure size 432x288 with 1 Axes>"
      ]
     },
     "metadata": {},
     "output_type": "display_data"
    },
    {
     "name": "stdout",
     "output_type": "stream",
     "text": [
      "75-99 yrs old\n",
      "Female\n"
     ]
    }
   ],
   "source": [
    "from keras.preprocessing import image\n",
    "from keras.preprocessing.image import ImageDataGenerator\n",
    " \n",
    "def loadImage(filepath):\n",
    "  test_img = image.load_img(filepath, target_size=(198, 198))\n",
    "  test_img = image.img_to_array(test_img)\n",
    "  test_img = np.expand_dims(test_img, axis = 0)\n",
    "  test_img /= 255\n",
    "  return test_img\n",
    "\n",
    "picture = \"/content/drive/MyDrive/Age_Geneder_UTKDataSet/UTKFace/100_1_0_20170112215032192.jpg.chip.jpg\"                                     \n",
    "age_pred, gender_pred = new_model.predict(loadImage(picture))\n",
    "img = image.load_img(picture)                        \n",
    "plt.imshow(img)\n",
    "plt.show()\n",
    "max=-1\n",
    "count=0\n",
    "\n",
    "for i in age_pred[0]:\n",
    "  if i>max:\n",
    "    max = i\n",
    "    temp = count\n",
    "  count+=1\n",
    "\n",
    "if temp==0:\n",
    "  print('0-24 yrs old')\n",
    "if temp==1:\n",
    "  print('25-49 yrs old')\n",
    "if temp==2:\n",
    "  print('50-74 yrs old')\n",
    "if temp==3:\n",
    "  print('75-99 yrs old')\n",
    "if temp==4:\n",
    "  print('91-124 yrs old')\n",
    "\n",
    "if gender_pred[0][0]>gender_pred[0][1]:\n",
    "  print('Male')\n",
    "else:\n",
    "  print('Female')\n"
   ]
  }
 ],
 "metadata": {
  "accelerator": "GPU",
  "colab": {
   "collapsed_sections": [],
   "machine_shape": "hm",
   "name": "Copy of DL_Project_ Age & Gender Classifier .ipynb",
   "provenance": []
  },
  "kernelspec": {
   "display_name": "conda_python3",
   "language": "python",
   "name": "conda_python3"
  },
  "language_info": {
   "codemirror_mode": {
    "name": "ipython",
    "version": 3
   },
   "file_extension": ".py",
   "mimetype": "text/x-python",
   "name": "python",
   "nbconvert_exporter": "python",
   "pygments_lexer": "ipython3",
   "version": "3.6.13"
  }
 },
 "nbformat": 4,
 "nbformat_minor": 1
}
